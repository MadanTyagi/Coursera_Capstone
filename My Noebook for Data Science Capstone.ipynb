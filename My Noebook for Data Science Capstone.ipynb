{
    "nbformat_minor": 1, 
    "cells": [
        {
            "source": "## This Notebook is created to work on Data Science Capstone", 
            "cell_type": "markdown", 
            "metadata": {}
        }, 
        {
            "source": "# 1st Part :", 
            "cell_type": "markdown", 
            "metadata": {}
        }, 
        {
            "source": "### Importing libraries and reading data from wikipedia :", 
            "cell_type": "markdown", 
            "metadata": {}
        }, 
        {
            "source": "import pandas as pd\nimport numpy as np\n\nprint('Hello Capstone Project Course!')\n", 
            "cell_type": "code", 
            "metadata": {}, 
            "outputs": [
                {
                    "output_type": "stream", 
                    "name": "stdout", 
                    "text": "Hello Capstone Project Course!\n"
                }
            ], 
            "execution_count": 1
        }, 
        {
            "source": "my_url = 'https://en.wikipedia.org/wiki/List_of_postal_codes_of_Canada:_M'\n\ntables = pd.read_html(my_url)\n", 
            "cell_type": "code", 
            "metadata": {}, 
            "outputs": [], 
            "execution_count": 2
        }, 
        {
            "source": "# Here, tables[0] is a data frame\n\ntables[0].head()", 
            "cell_type": "code", 
            "metadata": {}, 
            "outputs": [
                {
                    "output_type": "execute_result", 
                    "data": {
                        "text/html": "<div>\n<style scoped>\n    .dataframe tbody tr th:only-of-type {\n        vertical-align: middle;\n    }\n\n    .dataframe tbody tr th {\n        vertical-align: top;\n    }\n\n    .dataframe thead th {\n        text-align: right;\n    }\n</style>\n<table border=\"1\" class=\"dataframe\">\n  <thead>\n    <tr style=\"text-align: right;\">\n      <th></th>\n      <th>Postcode</th>\n      <th>Borough</th>\n      <th>Neighbourhood</th>\n    </tr>\n  </thead>\n  <tbody>\n    <tr>\n      <th>0</th>\n      <td>M1A</td>\n      <td>Not assigned</td>\n      <td>Not assigned</td>\n    </tr>\n    <tr>\n      <th>1</th>\n      <td>M2A</td>\n      <td>Not assigned</td>\n      <td>Not assigned</td>\n    </tr>\n    <tr>\n      <th>2</th>\n      <td>M3A</td>\n      <td>North York</td>\n      <td>Parkwoods</td>\n    </tr>\n    <tr>\n      <th>3</th>\n      <td>M4A</td>\n      <td>North York</td>\n      <td>Victoria Village</td>\n    </tr>\n    <tr>\n      <th>4</th>\n      <td>M5A</td>\n      <td>Downtown Toronto</td>\n      <td>Harbourfront</td>\n    </tr>\n  </tbody>\n</table>\n</div>", 
                        "text/plain": "  Postcode           Borough     Neighbourhood\n0      M1A      Not assigned      Not assigned\n1      M2A      Not assigned      Not assigned\n2      M3A        North York         Parkwoods\n3      M4A        North York  Victoria Village\n4      M5A  Downtown Toronto      Harbourfront"
                    }, 
                    "execution_count": 3, 
                    "metadata": {}
                }
            ], 
            "execution_count": 3
        }, 
        {
            "source": "toronto_data = tables[0]", 
            "cell_type": "code", 
            "metadata": {}, 
            "outputs": [], 
            "execution_count": 4
        }, 
        {
            "source": "toronto_data.head()", 
            "cell_type": "code", 
            "metadata": {}, 
            "outputs": [
                {
                    "output_type": "execute_result", 
                    "data": {
                        "text/html": "<div>\n<style scoped>\n    .dataframe tbody tr th:only-of-type {\n        vertical-align: middle;\n    }\n\n    .dataframe tbody tr th {\n        vertical-align: top;\n    }\n\n    .dataframe thead th {\n        text-align: right;\n    }\n</style>\n<table border=\"1\" class=\"dataframe\">\n  <thead>\n    <tr style=\"text-align: right;\">\n      <th></th>\n      <th>Postcode</th>\n      <th>Borough</th>\n      <th>Neighbourhood</th>\n    </tr>\n  </thead>\n  <tbody>\n    <tr>\n      <th>0</th>\n      <td>M1A</td>\n      <td>Not assigned</td>\n      <td>Not assigned</td>\n    </tr>\n    <tr>\n      <th>1</th>\n      <td>M2A</td>\n      <td>Not assigned</td>\n      <td>Not assigned</td>\n    </tr>\n    <tr>\n      <th>2</th>\n      <td>M3A</td>\n      <td>North York</td>\n      <td>Parkwoods</td>\n    </tr>\n    <tr>\n      <th>3</th>\n      <td>M4A</td>\n      <td>North York</td>\n      <td>Victoria Village</td>\n    </tr>\n    <tr>\n      <th>4</th>\n      <td>M5A</td>\n      <td>Downtown Toronto</td>\n      <td>Harbourfront</td>\n    </tr>\n  </tbody>\n</table>\n</div>", 
                        "text/plain": "  Postcode           Borough     Neighbourhood\n0      M1A      Not assigned      Not assigned\n1      M2A      Not assigned      Not assigned\n2      M3A        North York         Parkwoods\n3      M4A        North York  Victoria Village\n4      M5A  Downtown Toronto      Harbourfront"
                    }, 
                    "execution_count": 5, 
                    "metadata": {}
                }
            ], 
            "execution_count": 5
        }, 
        {
            "source": "toronto_data.shape", 
            "cell_type": "code", 
            "metadata": {}, 
            "outputs": [
                {
                    "output_type": "execute_result", 
                    "data": {
                        "text/plain": "(288, 3)"
                    }, 
                    "execution_count": 6, 
                    "metadata": {}
                }
            ], 
            "execution_count": 6
        }, 
        {
            "source": "toronto_data['Borough'].unique()", 
            "cell_type": "code", 
            "metadata": {
                "scrolled": true
            }, 
            "outputs": [
                {
                    "output_type": "execute_result", 
                    "data": {
                        "text/plain": "array(['Not assigned', 'North York', 'Downtown Toronto', \"Queen's Park\",\n       'Etobicoke', 'Scarborough', 'East York', 'York', 'East Toronto',\n       'West Toronto', 'Central Toronto', 'Mississauga'], dtype=object)"
                    }, 
                    "execution_count": 7, 
                    "metadata": {}
                }
            ], 
            "execution_count": 7
        }, 
        {
            "source": "### Ignoring the rows where Borough is 'Not assigned' :", 
            "cell_type": "markdown", 
            "metadata": {}
        }, 
        {
            "source": "toronto_data = toronto_data[toronto_data['Borough'] != \"Not assigned\"]", 
            "cell_type": "code", 
            "metadata": {}, 
            "outputs": [], 
            "execution_count": 8
        }, 
        {
            "source": "toronto_data['Borough'].unique()", 
            "cell_type": "code", 
            "metadata": {}, 
            "outputs": [
                {
                    "output_type": "execute_result", 
                    "data": {
                        "text/plain": "array(['North York', 'Downtown Toronto', \"Queen's Park\", 'Etobicoke',\n       'Scarborough', 'East York', 'York', 'East Toronto', 'West Toronto',\n       'Central Toronto', 'Mississauga'], dtype=object)"
                    }, 
                    "execution_count": 9, 
                    "metadata": {}
                }
            ], 
            "execution_count": 9
        }, 
        {
            "source": "toronto_data.shape", 
            "cell_type": "code", 
            "metadata": {
                "scrolled": true
            }, 
            "outputs": [
                {
                    "output_type": "execute_result", 
                    "data": {
                        "text/plain": "(211, 3)"
                    }, 
                    "execution_count": 10, 
                    "metadata": {}
                }
            ], 
            "execution_count": 10
        }, 
        {
            "source": "toronto_data['Neighbourhood'].unique()", 
            "cell_type": "code", 
            "metadata": {}, 
            "outputs": [
                {
                    "output_type": "execute_result", 
                    "data": {
                        "text/plain": "array(['Parkwoods', 'Victoria Village', 'Harbourfront', 'Regent Park',\n       'Lawrence Heights', 'Lawrence Manor', 'Not assigned',\n       'Islington Avenue', 'Rouge', 'Malvern', 'Don Mills North',\n       'Woodbine Gardens', 'Parkview Hill', 'Ryerson', 'Garden District',\n       'Glencairn', 'Cloverdale', 'Islington', 'Martin Grove',\n       'Princess Gardens', 'West Deane Park', 'Highland Creek',\n       'Rouge Hill', 'Port Union', 'Flemingdon Park', 'Don Mills South',\n       'Woodbine Heights', 'St. James Town', 'Humewood-Cedarvale',\n       'Bloordale Gardens', 'Eringate', 'Markland Wood',\n       'Old Burnhamthorpe', 'Guildwood', 'Morningside', 'West Hill',\n       'The Beaches', 'Berczy Park', 'Caledonia-Fairbanks', 'Woburn',\n       'Leaside', 'Central Bay Street', 'Christie', 'Cedarbrae',\n       'Hillcrest Village', 'Bathurst Manor', 'Downsview North',\n       'Wilson Heights', 'Thorncliffe Park', 'Adelaide', 'King',\n       'Richmond', 'Dovercourt Village', 'Dufferin',\n       'Scarborough Village', 'Fairview', 'Henry Farm', 'Oriole',\n       'Northwood Park', 'York University', 'East Toronto',\n       'Harbourfront East', 'Toronto Islands', 'Union Station',\n       'Little Portugal', 'Trinity', 'East Birchmount Park', 'Ionview',\n       'Kennedy Park', 'Bayview Village', 'CFB Toronto', 'Downsview East',\n       'The Danforth West', 'Riverdale', 'Design Exchange',\n       'Toronto Dominion Centre', 'Brockton', 'Exhibition Place',\n       'Parkdale Village', 'Clairlea', 'Golden Mile', 'Oakridge',\n       'Silver Hills', 'York Mills', 'Downsview West', 'The Beaches West',\n       'India Bazaar', 'Commerce Court', 'Victoria Hotel', 'Downsview',\n       'North Park', 'Upwood Park', 'Humber Summit', 'Cliffcrest',\n       'Cliffside', 'Scarborough Village West', 'Newtonbrook',\n       'Willowdale', 'Downsview Central', 'Studio District',\n       'Bedford Park', 'Lawrence Manor East', 'Del Ray', 'Keelesdale',\n       'Mount Dennis', 'Silverthorn', 'Emery', 'Humberlea', 'Birch Cliff',\n       'Cliffside West', 'Willowdale South', 'Downsview Northwest',\n       'Lawrence Park', 'Roselawn', 'The Junction North', 'Runnymede',\n       'Weston', 'Dorset Park', 'Scarborough Town Centre',\n       'Wexford Heights', 'York Mills West', 'Davisville North',\n       'Forest Hill North', 'Forest Hill West', 'High Park',\n       'The Junction South', 'Westmount', 'Maryvale', 'Wexford',\n       'Willowdale West', 'North Toronto West', 'The Annex',\n       'North Midtown', 'Yorkville', 'Parkdale', 'Roncesvalles',\n       'Canada Post Gateway Processing Centre', 'Kingsview Village',\n       'Martin Grove Gardens', 'Richview Gardens', 'St. Phillips',\n       'Agincourt', 'Davisville', 'Harbord', 'University of Toronto',\n       'Swansea', 'Clarks Corners', 'Sullivan', \"Tam O'Shanter\",\n       'Moore Park', 'Summerhill East', 'Chinatown', 'Grange Park',\n       'Kensington Market', 'Agincourt North', \"L'Amoreaux East\",\n       'Milliken', 'Steeles East', 'Deer Park', 'Forest Hill SE',\n       'Rathnelly', 'South Hill', 'Summerhill West', 'CN Tower',\n       'Bathurst Quay', 'Island airport', 'Harbourfront West',\n       'King and Spadina', 'Railway Lands', 'South Niagara',\n       'Humber Bay Shores', 'Mimico South', 'New Toronto',\n       'Albion Gardens', 'Beaumond Heights', 'Humbergate', 'Jamestown',\n       'Mount Olive', 'Silverstone', 'South Steeles', 'Thistletown',\n       \"L'Amoreaux West\", 'Rosedale', 'Stn A PO Boxes 25 The Esplanade',\n       'Alderwood', 'Long Branch', 'Northwest', 'Upper Rouge',\n       'Cabbagetown', 'First Canadian Place', 'Underground city',\n       'The Kingsway', 'Montgomery Road', 'Old Mill North',\n       'Church and Wellesley',\n       'Business Reply Mail Processing Centre 969 Eastern', 'Humber Bay',\n       \"King's Mill Park\", 'Kingsway Park South East', 'Mimico NE',\n       'Old Mill South', 'The Queensway East', 'Royal York South East',\n       'Sunnylea', 'Kingsway Park South West', 'Mimico NW',\n       'The Queensway West', 'Royal York South West', 'South of Bloor'],\n      dtype=object)"
                    }, 
                    "execution_count": 11, 
                    "metadata": {}
                }
            ], 
            "execution_count": 11
        }, 
        {
            "source": "### Assigning the value of Borough to Neighbourhood where Neighbourhood = 'Not assigned'", 
            "cell_type": "markdown", 
            "metadata": {}
        }, 
        {
            "source": "for i, r in toronto_data.iterrows():\n    if r.Neighbourhood == 'Not assigned':\n        r.Neighbourhood = r.Borough", 
            "cell_type": "code", 
            "metadata": {}, 
            "outputs": [], 
            "execution_count": 12
        }, 
        {
            "source": "toronto_data['Neighbourhood'].unique()", 
            "cell_type": "code", 
            "metadata": {}, 
            "outputs": [
                {
                    "output_type": "execute_result", 
                    "data": {
                        "text/plain": "array(['Parkwoods', 'Victoria Village', 'Harbourfront', 'Regent Park',\n       'Lawrence Heights', 'Lawrence Manor', \"Queen's Park\",\n       'Islington Avenue', 'Rouge', 'Malvern', 'Don Mills North',\n       'Woodbine Gardens', 'Parkview Hill', 'Ryerson', 'Garden District',\n       'Glencairn', 'Cloverdale', 'Islington', 'Martin Grove',\n       'Princess Gardens', 'West Deane Park', 'Highland Creek',\n       'Rouge Hill', 'Port Union', 'Flemingdon Park', 'Don Mills South',\n       'Woodbine Heights', 'St. James Town', 'Humewood-Cedarvale',\n       'Bloordale Gardens', 'Eringate', 'Markland Wood',\n       'Old Burnhamthorpe', 'Guildwood', 'Morningside', 'West Hill',\n       'The Beaches', 'Berczy Park', 'Caledonia-Fairbanks', 'Woburn',\n       'Leaside', 'Central Bay Street', 'Christie', 'Cedarbrae',\n       'Hillcrest Village', 'Bathurst Manor', 'Downsview North',\n       'Wilson Heights', 'Thorncliffe Park', 'Adelaide', 'King',\n       'Richmond', 'Dovercourt Village', 'Dufferin',\n       'Scarborough Village', 'Fairview', 'Henry Farm', 'Oriole',\n       'Northwood Park', 'York University', 'East Toronto',\n       'Harbourfront East', 'Toronto Islands', 'Union Station',\n       'Little Portugal', 'Trinity', 'East Birchmount Park', 'Ionview',\n       'Kennedy Park', 'Bayview Village', 'CFB Toronto', 'Downsview East',\n       'The Danforth West', 'Riverdale', 'Design Exchange',\n       'Toronto Dominion Centre', 'Brockton', 'Exhibition Place',\n       'Parkdale Village', 'Clairlea', 'Golden Mile', 'Oakridge',\n       'Silver Hills', 'York Mills', 'Downsview West', 'The Beaches West',\n       'India Bazaar', 'Commerce Court', 'Victoria Hotel', 'Downsview',\n       'North Park', 'Upwood Park', 'Humber Summit', 'Cliffcrest',\n       'Cliffside', 'Scarborough Village West', 'Newtonbrook',\n       'Willowdale', 'Downsview Central', 'Studio District',\n       'Bedford Park', 'Lawrence Manor East', 'Del Ray', 'Keelesdale',\n       'Mount Dennis', 'Silverthorn', 'Emery', 'Humberlea', 'Birch Cliff',\n       'Cliffside West', 'Willowdale South', 'Downsview Northwest',\n       'Lawrence Park', 'Roselawn', 'The Junction North', 'Runnymede',\n       'Weston', 'Dorset Park', 'Scarborough Town Centre',\n       'Wexford Heights', 'York Mills West', 'Davisville North',\n       'Forest Hill North', 'Forest Hill West', 'High Park',\n       'The Junction South', 'Westmount', 'Maryvale', 'Wexford',\n       'Willowdale West', 'North Toronto West', 'The Annex',\n       'North Midtown', 'Yorkville', 'Parkdale', 'Roncesvalles',\n       'Canada Post Gateway Processing Centre', 'Kingsview Village',\n       'Martin Grove Gardens', 'Richview Gardens', 'St. Phillips',\n       'Agincourt', 'Davisville', 'Harbord', 'University of Toronto',\n       'Swansea', 'Clarks Corners', 'Sullivan', \"Tam O'Shanter\",\n       'Moore Park', 'Summerhill East', 'Chinatown', 'Grange Park',\n       'Kensington Market', 'Agincourt North', \"L'Amoreaux East\",\n       'Milliken', 'Steeles East', 'Deer Park', 'Forest Hill SE',\n       'Rathnelly', 'South Hill', 'Summerhill West', 'CN Tower',\n       'Bathurst Quay', 'Island airport', 'Harbourfront West',\n       'King and Spadina', 'Railway Lands', 'South Niagara',\n       'Humber Bay Shores', 'Mimico South', 'New Toronto',\n       'Albion Gardens', 'Beaumond Heights', 'Humbergate', 'Jamestown',\n       'Mount Olive', 'Silverstone', 'South Steeles', 'Thistletown',\n       \"L'Amoreaux West\", 'Rosedale', 'Stn A PO Boxes 25 The Esplanade',\n       'Alderwood', 'Long Branch', 'Northwest', 'Upper Rouge',\n       'Cabbagetown', 'First Canadian Place', 'Underground city',\n       'The Kingsway', 'Montgomery Road', 'Old Mill North',\n       'Church and Wellesley',\n       'Business Reply Mail Processing Centre 969 Eastern', 'Humber Bay',\n       \"King's Mill Park\", 'Kingsway Park South East', 'Mimico NE',\n       'Old Mill South', 'The Queensway East', 'Royal York South East',\n       'Sunnylea', 'Kingsway Park South West', 'Mimico NW',\n       'The Queensway West', 'Royal York South West', 'South of Bloor'],\n      dtype=object)"
                    }, 
                    "execution_count": 13, 
                    "metadata": {}
                }
            ], 
            "execution_count": 13
        }, 
        {
            "source": "print('Total unique Postcode :', len(toronto_data['Postcode'].unique()))", 
            "cell_type": "code", 
            "metadata": {}, 
            "outputs": [
                {
                    "output_type": "stream", 
                    "name": "stdout", 
                    "text": "Total unique Postcode : 103\n"
                }
            ], 
            "execution_count": 14
        }, 
        {
            "source": "print('Total no. of Neighbourhood :',len(toronto_data['Neighbourhood']))", 
            "cell_type": "code", 
            "metadata": {}, 
            "outputs": [
                {
                    "output_type": "stream", 
                    "name": "stdout", 
                    "text": "Total no. of Neighbourhood : 211\n"
                }
            ], 
            "execution_count": 15
        }, 
        {
            "source": "toronto_data.head()", 
            "cell_type": "code", 
            "metadata": {
                "scrolled": true
            }, 
            "outputs": [
                {
                    "output_type": "execute_result", 
                    "data": {
                        "text/html": "<div>\n<style scoped>\n    .dataframe tbody tr th:only-of-type {\n        vertical-align: middle;\n    }\n\n    .dataframe tbody tr th {\n        vertical-align: top;\n    }\n\n    .dataframe thead th {\n        text-align: right;\n    }\n</style>\n<table border=\"1\" class=\"dataframe\">\n  <thead>\n    <tr style=\"text-align: right;\">\n      <th></th>\n      <th>Postcode</th>\n      <th>Borough</th>\n      <th>Neighbourhood</th>\n    </tr>\n  </thead>\n  <tbody>\n    <tr>\n      <th>2</th>\n      <td>M3A</td>\n      <td>North York</td>\n      <td>Parkwoods</td>\n    </tr>\n    <tr>\n      <th>3</th>\n      <td>M4A</td>\n      <td>North York</td>\n      <td>Victoria Village</td>\n    </tr>\n    <tr>\n      <th>4</th>\n      <td>M5A</td>\n      <td>Downtown Toronto</td>\n      <td>Harbourfront</td>\n    </tr>\n    <tr>\n      <th>5</th>\n      <td>M5A</td>\n      <td>Downtown Toronto</td>\n      <td>Regent Park</td>\n    </tr>\n    <tr>\n      <th>6</th>\n      <td>M6A</td>\n      <td>North York</td>\n      <td>Lawrence Heights</td>\n    </tr>\n  </tbody>\n</table>\n</div>", 
                        "text/plain": "  Postcode           Borough     Neighbourhood\n2      M3A        North York         Parkwoods\n3      M4A        North York  Victoria Village\n4      M5A  Downtown Toronto      Harbourfront\n5      M5A  Downtown Toronto       Regent Park\n6      M6A        North York  Lawrence Heights"
                    }, 
                    "execution_count": 16, 
                    "metadata": {}
                }
            ], 
            "execution_count": 16
        }, 
        {
            "source": "toronto_data.reset_index(inplace=True, drop=True)\ntoronto_data.head()", 
            "cell_type": "code", 
            "metadata": {
                "scrolled": true
            }, 
            "outputs": [
                {
                    "output_type": "execute_result", 
                    "data": {
                        "text/html": "<div>\n<style scoped>\n    .dataframe tbody tr th:only-of-type {\n        vertical-align: middle;\n    }\n\n    .dataframe tbody tr th {\n        vertical-align: top;\n    }\n\n    .dataframe thead th {\n        text-align: right;\n    }\n</style>\n<table border=\"1\" class=\"dataframe\">\n  <thead>\n    <tr style=\"text-align: right;\">\n      <th></th>\n      <th>Postcode</th>\n      <th>Borough</th>\n      <th>Neighbourhood</th>\n    </tr>\n  </thead>\n  <tbody>\n    <tr>\n      <th>0</th>\n      <td>M3A</td>\n      <td>North York</td>\n      <td>Parkwoods</td>\n    </tr>\n    <tr>\n      <th>1</th>\n      <td>M4A</td>\n      <td>North York</td>\n      <td>Victoria Village</td>\n    </tr>\n    <tr>\n      <th>2</th>\n      <td>M5A</td>\n      <td>Downtown Toronto</td>\n      <td>Harbourfront</td>\n    </tr>\n    <tr>\n      <th>3</th>\n      <td>M5A</td>\n      <td>Downtown Toronto</td>\n      <td>Regent Park</td>\n    </tr>\n    <tr>\n      <th>4</th>\n      <td>M6A</td>\n      <td>North York</td>\n      <td>Lawrence Heights</td>\n    </tr>\n  </tbody>\n</table>\n</div>", 
                        "text/plain": "  Postcode           Borough     Neighbourhood\n0      M3A        North York         Parkwoods\n1      M4A        North York  Victoria Village\n2      M5A  Downtown Toronto      Harbourfront\n3      M5A  Downtown Toronto       Regent Park\n4      M6A        North York  Lawrence Heights"
                    }, 
                    "execution_count": 17, 
                    "metadata": {}
                }
            ], 
            "execution_count": 17
        }, 
        {
            "source": "### Combining the Neighbourhood for the same Postcode and Borough :", 
            "cell_type": "markdown", 
            "metadata": {}
        }, 
        {
            "source": "P_last_value = ''\nB_last_value = ''\nN_last_value = ''\n# i=range(211)\n\nfor n, row in toronto_data.iterrows():\n    if row.Postcode == P_last_value and row.Borough == B_last_value:\n        row.Neighbourhood = N_last_value + ',' + row.Neighbourhood\n        print('A', n)\n        toronto_data.iloc[n-1]['Neighbourhood'] = 'Repeating value'  \n    P_last_value = row.Postcode\n    B_last_value = row.Borough\n    N_last_value = row.Neighbourhood\n    print('B', n)\n   \ntoronto_data.head()        ", 
            "cell_type": "code", 
            "metadata": {}, 
            "outputs": [
                {
                    "output_type": "stream", 
                    "name": "stdout", 
                    "text": "B 0\nB 1\nB 2\nA 3\nB 3\nB 4\nA 5\nB 5\nB 6\nB 7\nB 8\nA 9\nB 9\nB 10\nB 11\nA 12\nB 12\nB 13\nA 14\nB 14\nB 15\nB 16\nA 17\nB 17\nA 18\nB 18\nA 19\nB 19\nA 20\nB 20\nB 21\nA 22\nB 22\nA 23\nB 23\nB 24\nA 25\nB 25\nB 26\nB 27\nB 28\nB 29\nA 30\nB 30\nA 31\nB 31\nA 32\nB 32\nB 33\nA 34\nB 34\nA 35\nB 35\nB 36\nB 37\nB 38\nB 39\nB 40\nB 41\nB 42\nB 43\nB 44\nB 45\nA 46\nB 46\nA 47\nB 47\nB 48\nB 49\nA 50\nB 50\nA 51\nB 51\nB 52\nA 53\nB 53\nB 54\nB 55\nA 56\nB 56\nA 57\nB 57\nB 58\nA 59\nB 59\nB 60\nB 61\nA 62\nB 62\nA 63\nB 63\nB 64\nA 65\nB 65\nB 66\nA 67\nB 67\nA 68\nB 68\nB 69\nB 70\nA 71\nB 71\nB 72\nA 73\nB 73\nB 74\nA 75\nB 75\nB 76\nA 77\nB 77\nA 78\nB 78\nB 79\nA 80\nB 80\nA 81\nB 81\nB 82\nA 83\nB 83\nB 84\nB 85\nA 86\nB 86\nB 87\nA 88\nB 88\nB 89\nA 90\nB 90\nA 91\nB 91\nB 92\nB 93\nA 94\nB 94\nA 95\nB 95\nB 96\nA 97\nB 97\nB 98\nB 99\nB 100\nA 101\nB 101\nB 102\nA 103\nB 103\nA 104\nB 104\nA 105\nB 105\nB 106\nA 107\nB 107\nB 108\nA 109\nB 109\nB 110\nB 111\nB 112\nB 113\nB 114\nA 115\nB 115\nB 116\nB 117\nA 118\nB 118\nA 119\nB 119\nB 120\nB 121\nB 122\nA 123\nB 123\nB 124\nA 125\nB 125\nB 126\nB 127\nA 128\nB 128\nB 129\nB 130\nB 131\nA 132\nB 132\nA 133\nB 133\nB 134\nA 135\nB 135\nB 136\nB 137\nA 138\nB 138\nA 139\nB 139\nA 140\nB 140\nB 141\nB 142\nB 143\nA 144\nB 144\nB 145\nA 146\nB 146\nB 147\nA 148\nB 148\nA 149\nB 149\nB 150\nA 151\nB 151\nB 152\nA 153\nB 153\nA 154\nB 154\nB 155\nA 156\nB 156\nA 157\nB 157\nA 158\nB 158\nB 159\nA 160\nB 160\nA 161\nB 161\nA 162\nB 162\nA 163\nB 163\nB 164\nA 165\nB 165\nA 166\nB 166\nA 167\nB 167\nA 168\nB 168\nA 169\nB 169\nA 170\nB 170\nB 171\nA 172\nB 172\nA 173\nB 173\nB 174\nA 175\nB 175\nA 176\nB 176\nA 177\nB 177\nA 178\nB 178\nA 179\nB 179\nA 180\nB 180\nA 181\nB 181\nB 182\nB 183\nB 184\nB 185\nA 186\nB 186\nB 187\nB 188\nB 189\nA 190\nB 190\nB 191\nA 192\nB 192\nB 193\nA 194\nB 194\nA 195\nB 195\nB 196\nB 197\nB 198\nA 199\nB 199\nA 200\nB 200\nA 201\nB 201\nA 202\nB 202\nA 203\nB 203\nA 204\nB 204\nA 205\nB 205\nB 206\nA 207\nB 207\nA 208\nB 208\nA 209\nB 209\nA 210\nB 210\n"
                }, 
                {
                    "output_type": "execute_result", 
                    "data": {
                        "text/html": "<div>\n<style scoped>\n    .dataframe tbody tr th:only-of-type {\n        vertical-align: middle;\n    }\n\n    .dataframe tbody tr th {\n        vertical-align: top;\n    }\n\n    .dataframe thead th {\n        text-align: right;\n    }\n</style>\n<table border=\"1\" class=\"dataframe\">\n  <thead>\n    <tr style=\"text-align: right;\">\n      <th></th>\n      <th>Postcode</th>\n      <th>Borough</th>\n      <th>Neighbourhood</th>\n    </tr>\n  </thead>\n  <tbody>\n    <tr>\n      <th>0</th>\n      <td>M3A</td>\n      <td>North York</td>\n      <td>Parkwoods</td>\n    </tr>\n    <tr>\n      <th>1</th>\n      <td>M4A</td>\n      <td>North York</td>\n      <td>Victoria Village</td>\n    </tr>\n    <tr>\n      <th>2</th>\n      <td>M5A</td>\n      <td>Downtown Toronto</td>\n      <td>Repeating value</td>\n    </tr>\n    <tr>\n      <th>3</th>\n      <td>M5A</td>\n      <td>Downtown Toronto</td>\n      <td>Harbourfront,Regent Park</td>\n    </tr>\n    <tr>\n      <th>4</th>\n      <td>M6A</td>\n      <td>North York</td>\n      <td>Repeating value</td>\n    </tr>\n  </tbody>\n</table>\n</div>", 
                        "text/plain": "  Postcode           Borough             Neighbourhood\n0      M3A        North York                 Parkwoods\n1      M4A        North York          Victoria Village\n2      M5A  Downtown Toronto           Repeating value\n3      M5A  Downtown Toronto  Harbourfront,Regent Park\n4      M6A        North York           Repeating value"
                    }, 
                    "execution_count": 18, 
                    "metadata": {}
                }
            ], 
            "execution_count": 18
        }, 
        {
            "source": "toronto_data.reset_index(inplace=True, drop=True)\n\ntoronto_data.head(10)        ", 
            "cell_type": "code", 
            "metadata": {}, 
            "outputs": [
                {
                    "output_type": "execute_result", 
                    "data": {
                        "text/html": "<div>\n<style scoped>\n    .dataframe tbody tr th:only-of-type {\n        vertical-align: middle;\n    }\n\n    .dataframe tbody tr th {\n        vertical-align: top;\n    }\n\n    .dataframe thead th {\n        text-align: right;\n    }\n</style>\n<table border=\"1\" class=\"dataframe\">\n  <thead>\n    <tr style=\"text-align: right;\">\n      <th></th>\n      <th>Postcode</th>\n      <th>Borough</th>\n      <th>Neighbourhood</th>\n    </tr>\n  </thead>\n  <tbody>\n    <tr>\n      <th>0</th>\n      <td>M3A</td>\n      <td>North York</td>\n      <td>Parkwoods</td>\n    </tr>\n    <tr>\n      <th>1</th>\n      <td>M4A</td>\n      <td>North York</td>\n      <td>Victoria Village</td>\n    </tr>\n    <tr>\n      <th>2</th>\n      <td>M5A</td>\n      <td>Downtown Toronto</td>\n      <td>Repeating value</td>\n    </tr>\n    <tr>\n      <th>3</th>\n      <td>M5A</td>\n      <td>Downtown Toronto</td>\n      <td>Harbourfront,Regent Park</td>\n    </tr>\n    <tr>\n      <th>4</th>\n      <td>M6A</td>\n      <td>North York</td>\n      <td>Repeating value</td>\n    </tr>\n    <tr>\n      <th>5</th>\n      <td>M6A</td>\n      <td>North York</td>\n      <td>Lawrence Heights,Lawrence Manor</td>\n    </tr>\n    <tr>\n      <th>6</th>\n      <td>M7A</td>\n      <td>Queen's Park</td>\n      <td>Queen's Park</td>\n    </tr>\n    <tr>\n      <th>7</th>\n      <td>M9A</td>\n      <td>Etobicoke</td>\n      <td>Islington Avenue</td>\n    </tr>\n    <tr>\n      <th>8</th>\n      <td>M1B</td>\n      <td>Scarborough</td>\n      <td>Repeating value</td>\n    </tr>\n    <tr>\n      <th>9</th>\n      <td>M1B</td>\n      <td>Scarborough</td>\n      <td>Rouge,Malvern</td>\n    </tr>\n  </tbody>\n</table>\n</div>", 
                        "text/plain": "  Postcode           Borough                    Neighbourhood\n0      M3A        North York                        Parkwoods\n1      M4A        North York                 Victoria Village\n2      M5A  Downtown Toronto                  Repeating value\n3      M5A  Downtown Toronto         Harbourfront,Regent Park\n4      M6A        North York                  Repeating value\n5      M6A        North York  Lawrence Heights,Lawrence Manor\n6      M7A      Queen's Park                     Queen's Park\n7      M9A         Etobicoke                 Islington Avenue\n8      M1B       Scarborough                  Repeating value\n9      M1B       Scarborough                    Rouge,Malvern"
                    }, 
                    "execution_count": 19, 
                    "metadata": {}
                }
            ], 
            "execution_count": 19
        }, 
        {
            "source": "toronto_data.shape", 
            "cell_type": "code", 
            "metadata": {}, 
            "outputs": [
                {
                    "output_type": "execute_result", 
                    "data": {
                        "text/plain": "(211, 3)"
                    }, 
                    "execution_count": 20, 
                    "metadata": {}
                }
            ], 
            "execution_count": 20
        }, 
        {
            "source": "### Removing the rows where Neighbourhood = 'Repeating value'", 
            "cell_type": "markdown", 
            "metadata": {}
        }, 
        {
            "source": "toronto_data = toronto_data[toronto_data['Neighbourhood'] != 'Repeating value']", 
            "cell_type": "code", 
            "metadata": {}, 
            "outputs": [], 
            "execution_count": 21
        }, 
        {
            "source": "print('Result for 1st part : ',toronto_data.shape)\n", 
            "cell_type": "code", 
            "metadata": {}, 
            "outputs": [
                {
                    "output_type": "stream", 
                    "name": "stdout", 
                    "text": "Result for 1st part :  (103, 3)\n"
                }
            ], 
            "execution_count": 22
        }, 
        {
            "source": "# 2nd Part :", 
            "cell_type": "markdown", 
            "metadata": {}
        }, 
        {
            "source": "### Reading geographical coordinates for postal data", 
            "cell_type": "markdown", 
            "metadata": {}
        }, 
        {
            "source": "url_pc_toronto = 'http://cocl.us/Geospatial_data'\nurl_pc_toronto", 
            "cell_type": "code", 
            "metadata": {}, 
            "outputs": [
                {
                    "output_type": "execute_result", 
                    "data": {
                        "text/plain": "'http://cocl.us/Geospatial_data'"
                    }, 
                    "execution_count": 52, 
                    "metadata": {}
                }
            ], 
            "execution_count": 52
        }, 
        {
            "source": "pd_postcode = pd.read_csv(url_pc_toronto)\ntoronto_pc_data = pd.DataFrame(pd_postcode)\ntoronto_pc_data.head()\n", 
            "cell_type": "code", 
            "metadata": {
                "scrolled": true
            }, 
            "outputs": [
                {
                    "output_type": "execute_result", 
                    "data": {
                        "text/html": "<div>\n<style scoped>\n    .dataframe tbody tr th:only-of-type {\n        vertical-align: middle;\n    }\n\n    .dataframe tbody tr th {\n        vertical-align: top;\n    }\n\n    .dataframe thead th {\n        text-align: right;\n    }\n</style>\n<table border=\"1\" class=\"dataframe\">\n  <thead>\n    <tr style=\"text-align: right;\">\n      <th></th>\n      <th>Postal Code</th>\n      <th>Latitude</th>\n      <th>Longitude</th>\n    </tr>\n  </thead>\n  <tbody>\n    <tr>\n      <th>0</th>\n      <td>M1B</td>\n      <td>43.806686</td>\n      <td>-79.194353</td>\n    </tr>\n    <tr>\n      <th>1</th>\n      <td>M1C</td>\n      <td>43.784535</td>\n      <td>-79.160497</td>\n    </tr>\n    <tr>\n      <th>2</th>\n      <td>M1E</td>\n      <td>43.763573</td>\n      <td>-79.188711</td>\n    </tr>\n    <tr>\n      <th>3</th>\n      <td>M1G</td>\n      <td>43.770992</td>\n      <td>-79.216917</td>\n    </tr>\n    <tr>\n      <th>4</th>\n      <td>M1H</td>\n      <td>43.773136</td>\n      <td>-79.239476</td>\n    </tr>\n  </tbody>\n</table>\n</div>", 
                        "text/plain": "  Postal Code   Latitude  Longitude\n0         M1B  43.806686 -79.194353\n1         M1C  43.784535 -79.160497\n2         M1E  43.763573 -79.188711\n3         M1G  43.770992 -79.216917\n4         M1H  43.773136 -79.239476"
                    }, 
                    "execution_count": 68, 
                    "metadata": {}
                }
            ], 
            "execution_count": 68
        }, 
        {
            "source": "### Merging toronto_data and df_postal_data", 
            "cell_type": "markdown", 
            "metadata": {}
        }, 
        {
            "source": "toronto_merged = toronto_data\ntoronto_merged = toronto_merged.join(toronto_pc_data.set_index('Postal Code'), on='Postcode')\ntoronto_merged.head(10)\n", 
            "cell_type": "code", 
            "metadata": {
                "scrolled": true
            }, 
            "outputs": [
                {
                    "output_type": "execute_result", 
                    "data": {
                        "text/html": "<div>\n<style scoped>\n    .dataframe tbody tr th:only-of-type {\n        vertical-align: middle;\n    }\n\n    .dataframe tbody tr th {\n        vertical-align: top;\n    }\n\n    .dataframe thead th {\n        text-align: right;\n    }\n</style>\n<table border=\"1\" class=\"dataframe\">\n  <thead>\n    <tr style=\"text-align: right;\">\n      <th></th>\n      <th>Postcode</th>\n      <th>Borough</th>\n      <th>Neighbourhood</th>\n      <th>Latitude</th>\n      <th>Longitude</th>\n    </tr>\n  </thead>\n  <tbody>\n    <tr>\n      <th>0</th>\n      <td>M3A</td>\n      <td>North York</td>\n      <td>Parkwoods</td>\n      <td>43.753259</td>\n      <td>-79.329656</td>\n    </tr>\n    <tr>\n      <th>1</th>\n      <td>M4A</td>\n      <td>North York</td>\n      <td>Victoria Village</td>\n      <td>43.725882</td>\n      <td>-79.315572</td>\n    </tr>\n    <tr>\n      <th>3</th>\n      <td>M5A</td>\n      <td>Downtown Toronto</td>\n      <td>Harbourfront,Regent Park</td>\n      <td>43.654260</td>\n      <td>-79.360636</td>\n    </tr>\n    <tr>\n      <th>5</th>\n      <td>M6A</td>\n      <td>North York</td>\n      <td>Lawrence Heights,Lawrence Manor</td>\n      <td>43.718518</td>\n      <td>-79.464763</td>\n    </tr>\n    <tr>\n      <th>6</th>\n      <td>M7A</td>\n      <td>Queen's Park</td>\n      <td>Queen's Park</td>\n      <td>43.662301</td>\n      <td>-79.389494</td>\n    </tr>\n    <tr>\n      <th>7</th>\n      <td>M9A</td>\n      <td>Etobicoke</td>\n      <td>Islington Avenue</td>\n      <td>43.667856</td>\n      <td>-79.532242</td>\n    </tr>\n    <tr>\n      <th>9</th>\n      <td>M1B</td>\n      <td>Scarborough</td>\n      <td>Rouge,Malvern</td>\n      <td>43.806686</td>\n      <td>-79.194353</td>\n    </tr>\n    <tr>\n      <th>10</th>\n      <td>M3B</td>\n      <td>North York</td>\n      <td>Don Mills North</td>\n      <td>43.745906</td>\n      <td>-79.352188</td>\n    </tr>\n    <tr>\n      <th>12</th>\n      <td>M4B</td>\n      <td>East York</td>\n      <td>Woodbine Gardens,Parkview Hill</td>\n      <td>43.706397</td>\n      <td>-79.309937</td>\n    </tr>\n    <tr>\n      <th>14</th>\n      <td>M5B</td>\n      <td>Downtown Toronto</td>\n      <td>Ryerson,Garden District</td>\n      <td>43.657162</td>\n      <td>-79.378937</td>\n    </tr>\n  </tbody>\n</table>\n</div>", 
                        "text/plain": "   Postcode           Borough                    Neighbourhood   Latitude  \\\n0       M3A        North York                        Parkwoods  43.753259   \n1       M4A        North York                 Victoria Village  43.725882   \n3       M5A  Downtown Toronto         Harbourfront,Regent Park  43.654260   \n5       M6A        North York  Lawrence Heights,Lawrence Manor  43.718518   \n6       M7A      Queen's Park                     Queen's Park  43.662301   \n7       M9A         Etobicoke                 Islington Avenue  43.667856   \n9       M1B       Scarborough                    Rouge,Malvern  43.806686   \n10      M3B        North York                  Don Mills North  43.745906   \n12      M4B         East York   Woodbine Gardens,Parkview Hill  43.706397   \n14      M5B  Downtown Toronto          Ryerson,Garden District  43.657162   \n\n    Longitude  \n0  -79.329656  \n1  -79.315572  \n3  -79.360636  \n5  -79.464763  \n6  -79.389494  \n7  -79.532242  \n9  -79.194353  \n10 -79.352188  \n12 -79.309937  \n14 -79.378937  "
                    }, 
                    "execution_count": 91, 
                    "metadata": {}
                }
            ], 
            "execution_count": 91
        }, 
        {
            "source": "### Ignoring the rows where Borough column does not contain 'Toronto' string means keeping only Toronto data", 
            "cell_type": "markdown", 
            "metadata": {}
        }, 
        {
            "source": "toronto_filtered = toronto_merged[toronto_merged['Borough'].str.contains('Toronto')]\ntoronto_filtered.reset_index(drop=True, inplace=True)\ntoronto_filtered.head()\n", 
            "cell_type": "code", 
            "metadata": {}, 
            "outputs": [
                {
                    "output_type": "execute_result", 
                    "data": {
                        "text/html": "<div>\n<style scoped>\n    .dataframe tbody tr th:only-of-type {\n        vertical-align: middle;\n    }\n\n    .dataframe tbody tr th {\n        vertical-align: top;\n    }\n\n    .dataframe thead th {\n        text-align: right;\n    }\n</style>\n<table border=\"1\" class=\"dataframe\">\n  <thead>\n    <tr style=\"text-align: right;\">\n      <th></th>\n      <th>Postcode</th>\n      <th>Borough</th>\n      <th>Neighbourhood</th>\n      <th>Latitude</th>\n      <th>Longitude</th>\n    </tr>\n  </thead>\n  <tbody>\n    <tr>\n      <th>0</th>\n      <td>M5A</td>\n      <td>Downtown Toronto</td>\n      <td>Harbourfront,Regent Park</td>\n      <td>43.654260</td>\n      <td>-79.360636</td>\n    </tr>\n    <tr>\n      <th>1</th>\n      <td>M5B</td>\n      <td>Downtown Toronto</td>\n      <td>Ryerson,Garden District</td>\n      <td>43.657162</td>\n      <td>-79.378937</td>\n    </tr>\n    <tr>\n      <th>2</th>\n      <td>M5C</td>\n      <td>Downtown Toronto</td>\n      <td>St. James Town</td>\n      <td>43.651494</td>\n      <td>-79.375418</td>\n    </tr>\n    <tr>\n      <th>3</th>\n      <td>M4E</td>\n      <td>East Toronto</td>\n      <td>The Beaches</td>\n      <td>43.676357</td>\n      <td>-79.293031</td>\n    </tr>\n    <tr>\n      <th>4</th>\n      <td>M5E</td>\n      <td>Downtown Toronto</td>\n      <td>Berczy Park</td>\n      <td>43.644771</td>\n      <td>-79.373306</td>\n    </tr>\n  </tbody>\n</table>\n</div>", 
                        "text/plain": "  Postcode           Borough             Neighbourhood   Latitude  Longitude\n0      M5A  Downtown Toronto  Harbourfront,Regent Park  43.654260 -79.360636\n1      M5B  Downtown Toronto   Ryerson,Garden District  43.657162 -79.378937\n2      M5C  Downtown Toronto            St. James Town  43.651494 -79.375418\n3      M4E      East Toronto               The Beaches  43.676357 -79.293031\n4      M5E  Downtown Toronto               Berczy Park  43.644771 -79.373306"
                    }, 
                    "execution_count": 112, 
                    "metadata": {}
                }
            ], 
            "execution_count": 112
        }, 
        {
            "source": "toronto_filtered.shape", 
            "cell_type": "code", 
            "metadata": {}, 
            "outputs": [
                {
                    "output_type": "execute_result", 
                    "data": {
                        "text/plain": "(38, 5)"
                    }, 
                    "execution_count": 113, 
                    "metadata": {}
                }
            ], 
            "execution_count": 113
        }, 
        {
            "source": "# 3rd Part :", 
            "cell_type": "markdown", 
            "metadata": {}
        }, 
        {
            "source": "# install folium\n!conda install -c conda-forge folium=0.5.0 --yes # uncomment this line if you haven't completed the Foursquare API lab\n", 
            "cell_type": "code", 
            "metadata": {}, 
            "outputs": [
                {
                    "output_type": "stream", 
                    "name": "stdout", 
                    "text": "Solving environment: done\n\n## Package Plan ##\n\n  environment location: /opt/conda/envs/Python36\n\n  added / updated specs: \n    - folium=0.5.0\n\n\nThe following packages will be downloaded:\n\n    package                    |            build\n    ---------------------------|-----------------\n    vincent-0.4.4              |             py_1          28 KB  conda-forge\n    certifi-2019.6.16          |           py36_1         149 KB  conda-forge\n    branca-0.3.1               |             py_0          25 KB  conda-forge\n    openssl-1.1.1c             |       h516909a_0         2.1 MB  conda-forge\n    altair-3.1.0               |           py36_0         724 KB  conda-forge\n    folium-0.5.0               |             py_0          45 KB  conda-forge\n    ca-certificates-2019.6.16  |       hecc5488_0         145 KB  conda-forge\n    ------------------------------------------------------------\n                                           Total:         3.2 MB\n\nThe following NEW packages will be INSTALLED:\n\n    altair:          3.1.0-py36_0      conda-forge\n    branca:          0.3.1-py_0        conda-forge\n    folium:          0.5.0-py_0        conda-forge\n    vincent:         0.4.4-py_1        conda-forge\n\nThe following packages will be UPDATED:\n\n    ca-certificates: 2019.5.15-0                   --> 2019.6.16-hecc5488_0 conda-forge\n    certifi:         2019.6.16-py36_0              --> 2019.6.16-py36_1     conda-forge\n\nThe following packages will be DOWNGRADED:\n\n    openssl:         1.1.1c-h7b6447c_1             --> 1.1.1c-h516909a_0    conda-forge\n\n\nDownloading and Extracting Packages\nvincent-0.4.4        | 28 KB     | ##################################### | 100% \ncertifi-2019.6.16    | 149 KB    | ##################################### | 100% \nbranca-0.3.1         | 25 KB     | ##################################### | 100% \nopenssl-1.1.1c       | 2.1 MB    | ##################################### | 100% \naltair-3.1.0         | 724 KB    | ##################################### | 100% \nfolium-0.5.0         | 45 KB     | ##################################### | 100% \nca-certificates-2019 | 145 KB    | ##################################### | 100% \nPreparing transaction: done\nVerifying transaction: done\nExecuting transaction: done\n"
                }
            ], 
            "execution_count": 32
        }, 
        {
            "source": "import numpy as np # library to handle data in a vectorized manner\n\n#!conda install -c conda-forge geopy --yes # uncomment this line if you haven't completed the Foursquare API lab\nfrom geopy.geocoders import Nominatim # convert an address into latitude and longitude values\n\nimport requests # library to handle requests\nfrom pandas.io.json import json_normalize # tranform JSON file into a pandas dataframe\n\n# Matplotlib and associated plotting modules\nimport matplotlib.cm as cm\nimport matplotlib.colors as colors\n\n# import k-means from clustering stage\nfrom sklearn.cluster import KMeans\n\n\nimport folium # map rendering library\n\nprint('Libraries imported.')", 
            "cell_type": "code", 
            "metadata": {}, 
            "outputs": [
                {
                    "output_type": "stream", 
                    "name": "stdout", 
                    "text": "Libraries imported.\n"
                }
            ], 
            "execution_count": 114
        }, 
        {
            "source": "### Use geopy library to get the latitude and longitude values of Toronto", 
            "cell_type": "markdown", 
            "metadata": {}
        }, 
        {
            "source": "address = 'Toronto, Ontario'\n\ngeolocator = Nominatim(user_agent=\"tor_explorer\")\nlocation = geolocator.geocode(address)\nlatitude = location.latitude\nlongitude = location.longitude\nprint('Coordinate of Toronto are {}, {}.'.format(latitude, longitude))", 
            "cell_type": "code", 
            "metadata": {}, 
            "outputs": [
                {
                    "output_type": "stream", 
                    "name": "stdout", 
                    "text": "Coordinate of Toronto are 43.653963, -79.387207.\n"
                }
            ], 
            "execution_count": 133
        }, 
        {
            "source": "### Here, I am going to start utilizing the Foursquare API to explore the neighborhoods and segment them.", 
            "cell_type": "markdown", 
            "metadata": {}
        }, 
        {
            "source": "CLIENT_ID = 'EU0NRFQMMRG44MUZ5ZECCB44OL3C4HTQXF1QM5EXQVH0KEMB' # your Foursquare ID\nCLIENT_SECRET = 'F3CEQR3E3IVCT5JXYF4JKKWC3R4RGL5WLF1XMJ30Z0NWUMM2' # your Foursquare Secret\nVERSION = '20180605' # Foursquare API version\n\nprint('Your credentails:')\nprint('CLIENT_ID: ' + CLIENT_ID)\nprint('CLIENT_SECRET:' + CLIENT_SECRET)\n", 
            "cell_type": "code", 
            "metadata": {}, 
            "outputs": [
                {
                    "output_type": "stream", 
                    "name": "stdout", 
                    "text": "Your credentails:\nCLIENT_ID: EU0NRFQMMRG44MUZ5ZECCB44OL3C4HTQXF1QM5EXQVH0KEMB\nCLIENT_SECRET:F3CEQR3E3IVCT5JXYF4JKKWC3R4RGL5WLF1XMJ30Z0NWUMM2\n"
                }
            ], 
            "execution_count": 116
        }, 
        {
            "source": "def get_category_type(row):\n    try:\n        categories_list = row['categories']\n    except:\n        categories_list = row['venue.categories']\n        \n    if len(categories_list) == 0:\n        return None\n    else:\n        return categories_list[0]['name']\n", 
            "cell_type": "code", 
            "metadata": {}, 
            "outputs": [], 
            "execution_count": 117
        }, 
        {
            "source": "def getNearbyVenues(names, latitudes, longitudes, radius=500):\n    \n    venues_list=[]\n    for name, lat, lng in zip(names, latitudes, longitudes):\n        print(name)\n            \n        # create the API request URL\n        url = 'https://api.foursquare.com/v2/venues/explore?&client_id={}&client_secret={}&v={}&ll={},{}&radius={}&limit={}'.format(\n            CLIENT_ID, \n            CLIENT_SECRET, \n            VERSION, \n            lat, \n            lng, \n            radius, \n            LIMIT)\n            \n        # make the GET request\n        results = requests.get(url).json()[\"response\"]['groups'][0]['items']\n        \n        # return only relevant information for each nearby venue\n        venues_list.append([(\n            name, \n            lat, \n            lng, \n            v['venue']['name'], \n            v['venue']['location']['lat'], \n            v['venue']['location']['lng'],  \n            v['venue']['categories'][0]['name']) for v in results])\n\n    nearby_venues = pd.DataFrame([item for venue_list in venues_list for item in venue_list])\n    nearby_venues.columns = ['Neighborhood', \n                  'Neighborhood Latitude', \n                  'Neighborhood Longitude', \n                  'Venue', \n                  'Venue Latitude', \n                  'Venue Longitude', \n                  'Venue Category']\n    \n    return(nearby_venues)", 
            "cell_type": "code", 
            "metadata": {}, 
            "outputs": [], 
            "execution_count": 135
        }, 
        {
            "source": "radius = 500\nLIMIT = 100\n\ntoronto_venues = getNearbyVenues(names=toronto_filtered['Neighbourhood'],\n                                   latitudes=toronto_filtered['Latitude'],\n                                   longitudes=toronto_filtered['Longitude']\n                                  )\n", 
            "cell_type": "code", 
            "metadata": {}, 
            "outputs": [
                {
                    "output_type": "stream", 
                    "name": "stdout", 
                    "text": "Harbourfront,Regent Park\nRyerson,Garden District\nSt. James Town\nThe Beaches\nBerczy Park\nCentral Bay Street\nChristie\nAdelaide,King,Richmond\nDovercourt Village,Dufferin\nHarbourfront East,Toronto Islands,Union Station\nLittle Portugal,Trinity\nThe Danforth West,Riverdale\nDesign Exchange,Toronto Dominion Centre\nBrockton,Exhibition Place,Parkdale Village\nThe Beaches West,India Bazaar\nCommerce Court,Victoria Hotel\nStudio District\nLawrence Park\nRoselawn\nDavisville North\nForest Hill North,Forest Hill West\nHigh Park,The Junction South\nNorth Toronto West\nThe Annex,North Midtown,Yorkville\nParkdale,Roncesvalles\nDavisville\nHarbord,University of Toronto\nRunnymede,Swansea\nMoore Park,Summerhill East\nChinatown,Grange Park,Kensington Market\nDeer Park,Forest Hill SE,Rathnelly,South Hill,Summerhill West\nCN Tower,Bathurst Quay,Island airport,Harbourfront West,King and Spadina,Railway Lands,South Niagara\nRosedale\nStn A PO Boxes 25 The Esplanade\nCabbagetown,St. James Town\nFirst Canadian Place,Underground city\nChurch and Wellesley\nBusiness Reply Mail Processing Centre 969 Eastern\n"
                }
            ], 
            "execution_count": 136
        }, 
        {
            "source": "print(toronto_venues.shape)\ntoronto_venues.head()\n", 
            "cell_type": "code", 
            "metadata": {}, 
            "outputs": [
                {
                    "output_type": "stream", 
                    "name": "stdout", 
                    "text": "(1699, 7)\n"
                }, 
                {
                    "output_type": "execute_result", 
                    "data": {
                        "text/html": "<div>\n<style scoped>\n    .dataframe tbody tr th:only-of-type {\n        vertical-align: middle;\n    }\n\n    .dataframe tbody tr th {\n        vertical-align: top;\n    }\n\n    .dataframe thead th {\n        text-align: right;\n    }\n</style>\n<table border=\"1\" class=\"dataframe\">\n  <thead>\n    <tr style=\"text-align: right;\">\n      <th></th>\n      <th>Neighborhood</th>\n      <th>Neighborhood Latitude</th>\n      <th>Neighborhood Longitude</th>\n      <th>Venue</th>\n      <th>Venue Latitude</th>\n      <th>Venue Longitude</th>\n      <th>Venue Category</th>\n    </tr>\n  </thead>\n  <tbody>\n    <tr>\n      <th>0</th>\n      <td>Harbourfront,Regent Park</td>\n      <td>43.65426</td>\n      <td>-79.360636</td>\n      <td>Roselle Desserts</td>\n      <td>43.653447</td>\n      <td>-79.362017</td>\n      <td>Bakery</td>\n    </tr>\n    <tr>\n      <th>1</th>\n      <td>Harbourfront,Regent Park</td>\n      <td>43.65426</td>\n      <td>-79.360636</td>\n      <td>Tandem Coffee</td>\n      <td>43.653559</td>\n      <td>-79.361809</td>\n      <td>Coffee Shop</td>\n    </tr>\n    <tr>\n      <th>2</th>\n      <td>Harbourfront,Regent Park</td>\n      <td>43.65426</td>\n      <td>-79.360636</td>\n      <td>Toronto Cooper Koo Family Cherry St YMCA Centre</td>\n      <td>43.653191</td>\n      <td>-79.357947</td>\n      <td>Gym / Fitness Center</td>\n    </tr>\n    <tr>\n      <th>3</th>\n      <td>Harbourfront,Regent Park</td>\n      <td>43.65426</td>\n      <td>-79.360636</td>\n      <td>Body Blitz Spa East</td>\n      <td>43.654735</td>\n      <td>-79.359874</td>\n      <td>Spa</td>\n    </tr>\n    <tr>\n      <th>4</th>\n      <td>Harbourfront,Regent Park</td>\n      <td>43.65426</td>\n      <td>-79.360636</td>\n      <td>Morning Glory Cafe</td>\n      <td>43.653947</td>\n      <td>-79.361149</td>\n      <td>Breakfast Spot</td>\n    </tr>\n  </tbody>\n</table>\n</div>", 
                        "text/plain": "               Neighborhood  Neighborhood Latitude  Neighborhood Longitude  \\\n0  Harbourfront,Regent Park               43.65426              -79.360636   \n1  Harbourfront,Regent Park               43.65426              -79.360636   \n2  Harbourfront,Regent Park               43.65426              -79.360636   \n3  Harbourfront,Regent Park               43.65426              -79.360636   \n4  Harbourfront,Regent Park               43.65426              -79.360636   \n\n                                             Venue  Venue Latitude  \\\n0                                 Roselle Desserts       43.653447   \n1                                    Tandem Coffee       43.653559   \n2  Toronto Cooper Koo Family Cherry St YMCA Centre       43.653191   \n3                              Body Blitz Spa East       43.654735   \n4                               Morning Glory Cafe       43.653947   \n\n   Venue Longitude        Venue Category  \n0       -79.362017                Bakery  \n1       -79.361809           Coffee Shop  \n2       -79.357947  Gym / Fitness Center  \n3       -79.359874                   Spa  \n4       -79.361149        Breakfast Spot  "
                    }, 
                    "execution_count": 139, 
                    "metadata": {}
                }
            ], 
            "execution_count": 139
        }, 
        {
            "source": "toronto_venues.groupby('Neighborhood').count()\n", 
            "cell_type": "code", 
            "metadata": {}, 
            "outputs": [
                {
                    "output_type": "execute_result", 
                    "data": {
                        "text/html": "<div>\n<style scoped>\n    .dataframe tbody tr th:only-of-type {\n        vertical-align: middle;\n    }\n\n    .dataframe tbody tr th {\n        vertical-align: top;\n    }\n\n    .dataframe thead th {\n        text-align: right;\n    }\n</style>\n<table border=\"1\" class=\"dataframe\">\n  <thead>\n    <tr style=\"text-align: right;\">\n      <th></th>\n      <th>Neighborhood Latitude</th>\n      <th>Neighborhood Longitude</th>\n      <th>Venue</th>\n      <th>Venue Latitude</th>\n      <th>Venue Longitude</th>\n      <th>Venue Category</th>\n    </tr>\n    <tr>\n      <th>Neighborhood</th>\n      <th></th>\n      <th></th>\n      <th></th>\n      <th></th>\n      <th></th>\n      <th></th>\n    </tr>\n  </thead>\n  <tbody>\n    <tr>\n      <th>Adelaide,King,Richmond</th>\n      <td>100</td>\n      <td>100</td>\n      <td>100</td>\n      <td>100</td>\n      <td>100</td>\n      <td>100</td>\n    </tr>\n    <tr>\n      <th>Berczy Park</th>\n      <td>55</td>\n      <td>55</td>\n      <td>55</td>\n      <td>55</td>\n      <td>55</td>\n      <td>55</td>\n    </tr>\n    <tr>\n      <th>Brockton,Exhibition Place,Parkdale Village</th>\n      <td>23</td>\n      <td>23</td>\n      <td>23</td>\n      <td>23</td>\n      <td>23</td>\n      <td>23</td>\n    </tr>\n    <tr>\n      <th>Business Reply Mail Processing Centre 969 Eastern</th>\n      <td>17</td>\n      <td>17</td>\n      <td>17</td>\n      <td>17</td>\n      <td>17</td>\n      <td>17</td>\n    </tr>\n    <tr>\n      <th>CN Tower,Bathurst Quay,Island airport,Harbourfront West,King and Spadina,Railway Lands,South Niagara</th>\n      <td>17</td>\n      <td>17</td>\n      <td>17</td>\n      <td>17</td>\n      <td>17</td>\n      <td>17</td>\n    </tr>\n    <tr>\n      <th>Cabbagetown,St. James Town</th>\n      <td>47</td>\n      <td>47</td>\n      <td>47</td>\n      <td>47</td>\n      <td>47</td>\n      <td>47</td>\n    </tr>\n    <tr>\n      <th>Central Bay Street</th>\n      <td>81</td>\n      <td>81</td>\n      <td>81</td>\n      <td>81</td>\n      <td>81</td>\n      <td>81</td>\n    </tr>\n    <tr>\n      <th>Chinatown,Grange Park,Kensington Market</th>\n      <td>100</td>\n      <td>100</td>\n      <td>100</td>\n      <td>100</td>\n      <td>100</td>\n      <td>100</td>\n    </tr>\n    <tr>\n      <th>Christie</th>\n      <td>16</td>\n      <td>16</td>\n      <td>16</td>\n      <td>16</td>\n      <td>16</td>\n      <td>16</td>\n    </tr>\n    <tr>\n      <th>Church and Wellesley</th>\n      <td>85</td>\n      <td>85</td>\n      <td>85</td>\n      <td>85</td>\n      <td>85</td>\n      <td>85</td>\n    </tr>\n    <tr>\n      <th>Commerce Court,Victoria Hotel</th>\n      <td>100</td>\n      <td>100</td>\n      <td>100</td>\n      <td>100</td>\n      <td>100</td>\n      <td>100</td>\n    </tr>\n    <tr>\n      <th>Davisville</th>\n      <td>34</td>\n      <td>34</td>\n      <td>34</td>\n      <td>34</td>\n      <td>34</td>\n      <td>34</td>\n    </tr>\n    <tr>\n      <th>Davisville North</th>\n      <td>8</td>\n      <td>8</td>\n      <td>8</td>\n      <td>8</td>\n      <td>8</td>\n      <td>8</td>\n    </tr>\n    <tr>\n      <th>Deer Park,Forest Hill SE,Rathnelly,South Hill,Summerhill West</th>\n      <td>15</td>\n      <td>15</td>\n      <td>15</td>\n      <td>15</td>\n      <td>15</td>\n      <td>15</td>\n    </tr>\n    <tr>\n      <th>Design Exchange,Toronto Dominion Centre</th>\n      <td>100</td>\n      <td>100</td>\n      <td>100</td>\n      <td>100</td>\n      <td>100</td>\n      <td>100</td>\n    </tr>\n    <tr>\n      <th>Dovercourt Village,Dufferin</th>\n      <td>18</td>\n      <td>18</td>\n      <td>18</td>\n      <td>18</td>\n      <td>18</td>\n      <td>18</td>\n    </tr>\n    <tr>\n      <th>First Canadian Place,Underground city</th>\n      <td>100</td>\n      <td>100</td>\n      <td>100</td>\n      <td>100</td>\n      <td>100</td>\n      <td>100</td>\n    </tr>\n    <tr>\n      <th>Forest Hill North,Forest Hill West</th>\n      <td>4</td>\n      <td>4</td>\n      <td>4</td>\n      <td>4</td>\n      <td>4</td>\n      <td>4</td>\n    </tr>\n    <tr>\n      <th>Harbord,University of Toronto</th>\n      <td>34</td>\n      <td>34</td>\n      <td>34</td>\n      <td>34</td>\n      <td>34</td>\n      <td>34</td>\n    </tr>\n    <tr>\n      <th>Harbourfront East,Toronto Islands,Union Station</th>\n      <td>100</td>\n      <td>100</td>\n      <td>100</td>\n      <td>100</td>\n      <td>100</td>\n      <td>100</td>\n    </tr>\n    <tr>\n      <th>Harbourfront,Regent Park</th>\n      <td>47</td>\n      <td>47</td>\n      <td>47</td>\n      <td>47</td>\n      <td>47</td>\n      <td>47</td>\n    </tr>\n    <tr>\n      <th>High Park,The Junction South</th>\n      <td>23</td>\n      <td>23</td>\n      <td>23</td>\n      <td>23</td>\n      <td>23</td>\n      <td>23</td>\n    </tr>\n    <tr>\n      <th>Lawrence Park</th>\n      <td>3</td>\n      <td>3</td>\n      <td>3</td>\n      <td>3</td>\n      <td>3</td>\n      <td>3</td>\n    </tr>\n    <tr>\n      <th>Little Portugal,Trinity</th>\n      <td>63</td>\n      <td>63</td>\n      <td>63</td>\n      <td>63</td>\n      <td>63</td>\n      <td>63</td>\n    </tr>\n    <tr>\n      <th>Moore Park,Summerhill East</th>\n      <td>3</td>\n      <td>3</td>\n      <td>3</td>\n      <td>3</td>\n      <td>3</td>\n      <td>3</td>\n    </tr>\n    <tr>\n      <th>North Toronto West</th>\n      <td>19</td>\n      <td>19</td>\n      <td>19</td>\n      <td>19</td>\n      <td>19</td>\n      <td>19</td>\n    </tr>\n    <tr>\n      <th>Parkdale,Roncesvalles</th>\n      <td>15</td>\n      <td>15</td>\n      <td>15</td>\n      <td>15</td>\n      <td>15</td>\n      <td>15</td>\n    </tr>\n    <tr>\n      <th>Rosedale</th>\n      <td>5</td>\n      <td>5</td>\n      <td>5</td>\n      <td>5</td>\n      <td>5</td>\n      <td>5</td>\n    </tr>\n    <tr>\n      <th>Roselawn</th>\n      <td>4</td>\n      <td>4</td>\n      <td>4</td>\n      <td>4</td>\n      <td>4</td>\n      <td>4</td>\n    </tr>\n    <tr>\n      <th>Runnymede,Swansea</th>\n      <td>35</td>\n      <td>35</td>\n      <td>35</td>\n      <td>35</td>\n      <td>35</td>\n      <td>35</td>\n    </tr>\n    <tr>\n      <th>Ryerson,Garden District</th>\n      <td>100</td>\n      <td>100</td>\n      <td>100</td>\n      <td>100</td>\n      <td>100</td>\n      <td>100</td>\n    </tr>\n    <tr>\n      <th>St. James Town</th>\n      <td>100</td>\n      <td>100</td>\n      <td>100</td>\n      <td>100</td>\n      <td>100</td>\n      <td>100</td>\n    </tr>\n    <tr>\n      <th>Stn A PO Boxes 25 The Esplanade</th>\n      <td>96</td>\n      <td>96</td>\n      <td>96</td>\n      <td>96</td>\n      <td>96</td>\n      <td>96</td>\n    </tr>\n    <tr>\n      <th>Studio District</th>\n      <td>41</td>\n      <td>41</td>\n      <td>41</td>\n      <td>41</td>\n      <td>41</td>\n      <td>41</td>\n    </tr>\n    <tr>\n      <th>The Annex,North Midtown,Yorkville</th>\n      <td>25</td>\n      <td>25</td>\n      <td>25</td>\n      <td>25</td>\n      <td>25</td>\n      <td>25</td>\n    </tr>\n    <tr>\n      <th>The Beaches</th>\n      <td>4</td>\n      <td>4</td>\n      <td>4</td>\n      <td>4</td>\n      <td>4</td>\n      <td>4</td>\n    </tr>\n    <tr>\n      <th>The Beaches West,India Bazaar</th>\n      <td>20</td>\n      <td>20</td>\n      <td>20</td>\n      <td>20</td>\n      <td>20</td>\n      <td>20</td>\n    </tr>\n    <tr>\n      <th>The Danforth West,Riverdale</th>\n      <td>42</td>\n      <td>42</td>\n      <td>42</td>\n      <td>42</td>\n      <td>42</td>\n      <td>42</td>\n    </tr>\n  </tbody>\n</table>\n</div>", 
                        "text/plain": "                                                    Neighborhood Latitude  \\\nNeighborhood                                                                \nAdelaide,King,Richmond                                                100   \nBerczy Park                                                            55   \nBrockton,Exhibition Place,Parkdale Village                             23   \nBusiness Reply Mail Processing Centre 969 Eastern                      17   \nCN Tower,Bathurst Quay,Island airport,Harbourfr...                     17   \nCabbagetown,St. James Town                                             47   \nCentral Bay Street                                                     81   \nChinatown,Grange Park,Kensington Market                               100   \nChristie                                                               16   \nChurch and Wellesley                                                   85   \nCommerce Court,Victoria Hotel                                         100   \nDavisville                                                             34   \nDavisville North                                                        8   \nDeer Park,Forest Hill SE,Rathnelly,South Hill,S...                     15   \nDesign Exchange,Toronto Dominion Centre                               100   \nDovercourt Village,Dufferin                                            18   \nFirst Canadian Place,Underground city                                 100   \nForest Hill North,Forest Hill West                                      4   \nHarbord,University of Toronto                                          34   \nHarbourfront East,Toronto Islands,Union Station                       100   \nHarbourfront,Regent Park                                               47   \nHigh Park,The Junction South                                           23   \nLawrence Park                                                           3   \nLittle Portugal,Trinity                                                63   \nMoore Park,Summerhill East                                              3   \nNorth Toronto West                                                     19   \nParkdale,Roncesvalles                                                  15   \nRosedale                                                                5   \nRoselawn                                                                4   \nRunnymede,Swansea                                                      35   \nRyerson,Garden District                                               100   \nSt. James Town                                                        100   \nStn A PO Boxes 25 The Esplanade                                        96   \nStudio District                                                        41   \nThe Annex,North Midtown,Yorkville                                      25   \nThe Beaches                                                             4   \nThe Beaches West,India Bazaar                                          20   \nThe Danforth West,Riverdale                                            42   \n\n                                                    Neighborhood Longitude  \\\nNeighborhood                                                                 \nAdelaide,King,Richmond                                                 100   \nBerczy Park                                                             55   \nBrockton,Exhibition Place,Parkdale Village                              23   \nBusiness Reply Mail Processing Centre 969 Eastern                       17   \nCN Tower,Bathurst Quay,Island airport,Harbourfr...                      17   \nCabbagetown,St. James Town                                              47   \nCentral Bay Street                                                      81   \nChinatown,Grange Park,Kensington Market                                100   \nChristie                                                                16   \nChurch and Wellesley                                                    85   \nCommerce Court,Victoria Hotel                                          100   \nDavisville                                                              34   \nDavisville North                                                         8   \nDeer Park,Forest Hill SE,Rathnelly,South Hill,S...                      15   \nDesign Exchange,Toronto Dominion Centre                                100   \nDovercourt Village,Dufferin                                             18   \nFirst Canadian Place,Underground city                                  100   \nForest Hill North,Forest Hill West                                       4   \nHarbord,University of Toronto                                           34   \nHarbourfront East,Toronto Islands,Union Station                        100   \nHarbourfront,Regent Park                                                47   \nHigh Park,The Junction South                                            23   \nLawrence Park                                                            3   \nLittle Portugal,Trinity                                                 63   \nMoore Park,Summerhill East                                               3   \nNorth Toronto West                                                      19   \nParkdale,Roncesvalles                                                   15   \nRosedale                                                                 5   \nRoselawn                                                                 4   \nRunnymede,Swansea                                                       35   \nRyerson,Garden District                                                100   \nSt. James Town                                                         100   \nStn A PO Boxes 25 The Esplanade                                         96   \nStudio District                                                         41   \nThe Annex,North Midtown,Yorkville                                       25   \nThe Beaches                                                              4   \nThe Beaches West,India Bazaar                                           20   \nThe Danforth West,Riverdale                                             42   \n\n                                                    Venue  Venue Latitude  \\\nNeighborhood                                                                \nAdelaide,King,Richmond                                100             100   \nBerczy Park                                            55              55   \nBrockton,Exhibition Place,Parkdale Village             23              23   \nBusiness Reply Mail Processing Centre 969 Eastern      17              17   \nCN Tower,Bathurst Quay,Island airport,Harbourfr...     17              17   \nCabbagetown,St. James Town                             47              47   \nCentral Bay Street                                     81              81   \nChinatown,Grange Park,Kensington Market               100             100   \nChristie                                               16              16   \nChurch and Wellesley                                   85              85   \nCommerce Court,Victoria Hotel                         100             100   \nDavisville                                             34              34   \nDavisville North                                        8               8   \nDeer Park,Forest Hill SE,Rathnelly,South Hill,S...     15              15   \nDesign Exchange,Toronto Dominion Centre               100             100   \nDovercourt Village,Dufferin                            18              18   \nFirst Canadian Place,Underground city                 100             100   \nForest Hill North,Forest Hill West                      4               4   \nHarbord,University of Toronto                          34              34   \nHarbourfront East,Toronto Islands,Union Station       100             100   \nHarbourfront,Regent Park                               47              47   \nHigh Park,The Junction South                           23              23   \nLawrence Park                                           3               3   \nLittle Portugal,Trinity                                63              63   \nMoore Park,Summerhill East                              3               3   \nNorth Toronto West                                     19              19   \nParkdale,Roncesvalles                                  15              15   \nRosedale                                                5               5   \nRoselawn                                                4               4   \nRunnymede,Swansea                                      35              35   \nRyerson,Garden District                               100             100   \nSt. James Town                                        100             100   \nStn A PO Boxes 25 The Esplanade                        96              96   \nStudio District                                        41              41   \nThe Annex,North Midtown,Yorkville                      25              25   \nThe Beaches                                             4               4   \nThe Beaches West,India Bazaar                          20              20   \nThe Danforth West,Riverdale                            42              42   \n\n                                                    Venue Longitude  \\\nNeighborhood                                                          \nAdelaide,King,Richmond                                          100   \nBerczy Park                                                      55   \nBrockton,Exhibition Place,Parkdale Village                       23   \nBusiness Reply Mail Processing Centre 969 Eastern                17   \nCN Tower,Bathurst Quay,Island airport,Harbourfr...               17   \nCabbagetown,St. James Town                                       47   \nCentral Bay Street                                               81   \nChinatown,Grange Park,Kensington Market                         100   \nChristie                                                         16   \nChurch and Wellesley                                             85   \nCommerce Court,Victoria Hotel                                   100   \nDavisville                                                       34   \nDavisville North                                                  8   \nDeer Park,Forest Hill SE,Rathnelly,South Hill,S...               15   \nDesign Exchange,Toronto Dominion Centre                         100   \nDovercourt Village,Dufferin                                      18   \nFirst Canadian Place,Underground city                           100   \nForest Hill North,Forest Hill West                                4   \nHarbord,University of Toronto                                    34   \nHarbourfront East,Toronto Islands,Union Station                 100   \nHarbourfront,Regent Park                                         47   \nHigh Park,The Junction South                                     23   \nLawrence Park                                                     3   \nLittle Portugal,Trinity                                          63   \nMoore Park,Summerhill East                                        3   \nNorth Toronto West                                               19   \nParkdale,Roncesvalles                                            15   \nRosedale                                                          5   \nRoselawn                                                          4   \nRunnymede,Swansea                                                35   \nRyerson,Garden District                                         100   \nSt. James Town                                                  100   \nStn A PO Boxes 25 The Esplanade                                  96   \nStudio District                                                  41   \nThe Annex,North Midtown,Yorkville                                25   \nThe Beaches                                                       4   \nThe Beaches West,India Bazaar                                    20   \nThe Danforth West,Riverdale                                      42   \n\n                                                    Venue Category  \nNeighborhood                                                        \nAdelaide,King,Richmond                                         100  \nBerczy Park                                                     55  \nBrockton,Exhibition Place,Parkdale Village                      23  \nBusiness Reply Mail Processing Centre 969 Eastern               17  \nCN Tower,Bathurst Quay,Island airport,Harbourfr...              17  \nCabbagetown,St. James Town                                      47  \nCentral Bay Street                                              81  \nChinatown,Grange Park,Kensington Market                        100  \nChristie                                                        16  \nChurch and Wellesley                                            85  \nCommerce Court,Victoria Hotel                                  100  \nDavisville                                                      34  \nDavisville North                                                 8  \nDeer Park,Forest Hill SE,Rathnelly,South Hill,S...              15  \nDesign Exchange,Toronto Dominion Centre                        100  \nDovercourt Village,Dufferin                                     18  \nFirst Canadian Place,Underground city                          100  \nForest Hill North,Forest Hill West                               4  \nHarbord,University of Toronto                                   34  \nHarbourfront East,Toronto Islands,Union Station                100  \nHarbourfront,Regent Park                                        47  \nHigh Park,The Junction South                                    23  \nLawrence Park                                                    3  \nLittle Portugal,Trinity                                         63  \nMoore Park,Summerhill East                                       3  \nNorth Toronto West                                              19  \nParkdale,Roncesvalles                                           15  \nRosedale                                                         5  \nRoselawn                                                         4  \nRunnymede,Swansea                                               35  \nRyerson,Garden District                                        100  \nSt. James Town                                                 100  \nStn A PO Boxes 25 The Esplanade                                 96  \nStudio District                                                 41  \nThe Annex,North Midtown,Yorkville                               25  \nThe Beaches                                                      4  \nThe Beaches West,India Bazaar                                   20  \nThe Danforth West,Riverdale                                     42  "
                    }, 
                    "execution_count": 140, 
                    "metadata": {}
                }
            ], 
            "execution_count": 140
        }, 
        {
            "source": "print('There are {} uniques categories.'.format(len(toronto_venues['Venue Category'].unique())))\n", 
            "cell_type": "code", 
            "metadata": {
                "scrolled": true
            }, 
            "outputs": [
                {
                    "output_type": "stream", 
                    "name": "stdout", 
                    "text": "There are 239 uniques categories.\n"
                }
            ], 
            "execution_count": 142
        }, 
        {
            "source": "# one hot encoding\ntoronto_onehot = pd.get_dummies(toronto_venues[['Venue Category']], prefix=\"\", prefix_sep=\"\")\n\n# add neighborhood column back to dataframe\ntoronto_onehot.drop(columns=['Neighborhood'], axis=1, inplace=True)\nnbhd_list = tor_venues['Neighborhood']\ntoronto_onehot.insert(0, 'Neighborhood', nbhd_list)\n\ntoronto_onehot.head()\n", 
            "cell_type": "code", 
            "metadata": {}, 
            "outputs": [
                {
                    "output_type": "execute_result", 
                    "data": {
                        "text/html": "<div>\n<style scoped>\n    .dataframe tbody tr th:only-of-type {\n        vertical-align: middle;\n    }\n\n    .dataframe tbody tr th {\n        vertical-align: top;\n    }\n\n    .dataframe thead th {\n        text-align: right;\n    }\n</style>\n<table border=\"1\" class=\"dataframe\">\n  <thead>\n    <tr style=\"text-align: right;\">\n      <th></th>\n      <th>Neighborhood</th>\n      <th>Afghan Restaurant</th>\n      <th>Airport</th>\n      <th>Airport Food Court</th>\n      <th>Airport Gate</th>\n      <th>Airport Lounge</th>\n      <th>Airport Service</th>\n      <th>Airport Terminal</th>\n      <th>American Restaurant</th>\n      <th>Antique Shop</th>\n      <th>...</th>\n      <th>Thrift / Vintage Store</th>\n      <th>Toy / Game Store</th>\n      <th>Trail</th>\n      <th>Train Station</th>\n      <th>Vegetarian / Vegan Restaurant</th>\n      <th>Video Game Store</th>\n      <th>Vietnamese Restaurant</th>\n      <th>Wine Bar</th>\n      <th>Wings Joint</th>\n      <th>Yoga Studio</th>\n    </tr>\n  </thead>\n  <tbody>\n    <tr>\n      <th>0</th>\n      <td>Harbourfront,Regent Park</td>\n      <td>0</td>\n      <td>0</td>\n      <td>0</td>\n      <td>0</td>\n      <td>0</td>\n      <td>0</td>\n      <td>0</td>\n      <td>0</td>\n      <td>0</td>\n      <td>...</td>\n      <td>0</td>\n      <td>0</td>\n      <td>0</td>\n      <td>0</td>\n      <td>0</td>\n      <td>0</td>\n      <td>0</td>\n      <td>0</td>\n      <td>0</td>\n      <td>0</td>\n    </tr>\n    <tr>\n      <th>1</th>\n      <td>Harbourfront,Regent Park</td>\n      <td>0</td>\n      <td>0</td>\n      <td>0</td>\n      <td>0</td>\n      <td>0</td>\n      <td>0</td>\n      <td>0</td>\n      <td>0</td>\n      <td>0</td>\n      <td>...</td>\n      <td>0</td>\n      <td>0</td>\n      <td>0</td>\n      <td>0</td>\n      <td>0</td>\n      <td>0</td>\n      <td>0</td>\n      <td>0</td>\n      <td>0</td>\n      <td>0</td>\n    </tr>\n    <tr>\n      <th>2</th>\n      <td>Harbourfront,Regent Park</td>\n      <td>0</td>\n      <td>0</td>\n      <td>0</td>\n      <td>0</td>\n      <td>0</td>\n      <td>0</td>\n      <td>0</td>\n      <td>0</td>\n      <td>0</td>\n      <td>...</td>\n      <td>0</td>\n      <td>0</td>\n      <td>0</td>\n      <td>0</td>\n      <td>0</td>\n      <td>0</td>\n      <td>0</td>\n      <td>0</td>\n      <td>0</td>\n      <td>0</td>\n    </tr>\n    <tr>\n      <th>3</th>\n      <td>Harbourfront,Regent Park</td>\n      <td>0</td>\n      <td>0</td>\n      <td>0</td>\n      <td>0</td>\n      <td>0</td>\n      <td>0</td>\n      <td>0</td>\n      <td>0</td>\n      <td>0</td>\n      <td>...</td>\n      <td>0</td>\n      <td>0</td>\n      <td>0</td>\n      <td>0</td>\n      <td>0</td>\n      <td>0</td>\n      <td>0</td>\n      <td>0</td>\n      <td>0</td>\n      <td>0</td>\n    </tr>\n    <tr>\n      <th>4</th>\n      <td>Harbourfront,Regent Park</td>\n      <td>0</td>\n      <td>0</td>\n      <td>0</td>\n      <td>0</td>\n      <td>0</td>\n      <td>0</td>\n      <td>0</td>\n      <td>0</td>\n      <td>0</td>\n      <td>...</td>\n      <td>0</td>\n      <td>0</td>\n      <td>0</td>\n      <td>0</td>\n      <td>0</td>\n      <td>0</td>\n      <td>0</td>\n      <td>0</td>\n      <td>0</td>\n      <td>0</td>\n    </tr>\n  </tbody>\n</table>\n<p>5 rows \u00d7 239 columns</p>\n</div>", 
                        "text/plain": "               Neighborhood  Afghan Restaurant  Airport  Airport Food Court  \\\n0  Harbourfront,Regent Park                  0        0                   0   \n1  Harbourfront,Regent Park                  0        0                   0   \n2  Harbourfront,Regent Park                  0        0                   0   \n3  Harbourfront,Regent Park                  0        0                   0   \n4  Harbourfront,Regent Park                  0        0                   0   \n\n   Airport Gate  Airport Lounge  Airport Service  Airport Terminal  \\\n0             0               0                0                 0   \n1             0               0                0                 0   \n2             0               0                0                 0   \n3             0               0                0                 0   \n4             0               0                0                 0   \n\n   American Restaurant  Antique Shop  ...  Thrift / Vintage Store  \\\n0                    0             0  ...                       0   \n1                    0             0  ...                       0   \n2                    0             0  ...                       0   \n3                    0             0  ...                       0   \n4                    0             0  ...                       0   \n\n   Toy / Game Store  Trail  Train Station  Vegetarian / Vegan Restaurant  \\\n0                 0      0              0                              0   \n1                 0      0              0                              0   \n2                 0      0              0                              0   \n3                 0      0              0                              0   \n4                 0      0              0                              0   \n\n   Video Game Store  Vietnamese Restaurant  Wine Bar  Wings Joint  Yoga Studio  \n0                 0                      0         0            0            0  \n1                 0                      0         0            0            0  \n2                 0                      0         0            0            0  \n3                 0                      0         0            0            0  \n4                 0                      0         0            0            0  \n\n[5 rows x 239 columns]"
                    }, 
                    "execution_count": 153, 
                    "metadata": {}
                }
            ], 
            "execution_count": 153
        }, 
        {
            "source": "toronto_onehot.shape\n", 
            "cell_type": "code", 
            "metadata": {}, 
            "outputs": [
                {
                    "output_type": "execute_result", 
                    "data": {
                        "text/plain": "(1699, 239)"
                    }, 
                    "execution_count": 154, 
                    "metadata": {}
                }
            ], 
            "execution_count": 154
        }, 
        {
            "source": "", 
            "cell_type": "code", 
            "metadata": {}, 
            "outputs": [], 
            "execution_count": null
        }, 
        {
            "source": "### Next, let's group rows by neighborhood and by taking the mean of the frequency of occurrence of each category", 
            "cell_type": "markdown", 
            "metadata": {}
        }, 
        {
            "source": "toronto_grouped = toronto_onehot.groupby('Neighborhood').mean().reset_index()\ntoronto_grouped", 
            "cell_type": "code", 
            "metadata": {}, 
            "outputs": [
                {
                    "output_type": "execute_result", 
                    "data": {
                        "text/html": "<div>\n<style scoped>\n    .dataframe tbody tr th:only-of-type {\n        vertical-align: middle;\n    }\n\n    .dataframe tbody tr th {\n        vertical-align: top;\n    }\n\n    .dataframe thead th {\n        text-align: right;\n    }\n</style>\n<table border=\"1\" class=\"dataframe\">\n  <thead>\n    <tr style=\"text-align: right;\">\n      <th></th>\n      <th>Neighborhood</th>\n      <th>Afghan Restaurant</th>\n      <th>Airport</th>\n      <th>Airport Food Court</th>\n      <th>Airport Gate</th>\n      <th>Airport Lounge</th>\n      <th>Airport Service</th>\n      <th>Airport Terminal</th>\n      <th>American Restaurant</th>\n      <th>Antique Shop</th>\n      <th>...</th>\n      <th>Thrift / Vintage Store</th>\n      <th>Toy / Game Store</th>\n      <th>Trail</th>\n      <th>Train Station</th>\n      <th>Vegetarian / Vegan Restaurant</th>\n      <th>Video Game Store</th>\n      <th>Vietnamese Restaurant</th>\n      <th>Wine Bar</th>\n      <th>Wings Joint</th>\n      <th>Yoga Studio</th>\n    </tr>\n  </thead>\n  <tbody>\n    <tr>\n      <th>0</th>\n      <td>Adelaide,King,Richmond</td>\n      <td>0.000000</td>\n      <td>0.000000</td>\n      <td>0.000000</td>\n      <td>0.000000</td>\n      <td>0.000000</td>\n      <td>0.000000</td>\n      <td>0.000000</td>\n      <td>0.030000</td>\n      <td>0.000000</td>\n      <td>...</td>\n      <td>0.00000</td>\n      <td>0.000000</td>\n      <td>0.00000</td>\n      <td>0.00</td>\n      <td>0.010000</td>\n      <td>0.000000</td>\n      <td>0.000000</td>\n      <td>0.010000</td>\n      <td>0.000000</td>\n      <td>0.000000</td>\n    </tr>\n    <tr>\n      <th>1</th>\n      <td>Berczy Park</td>\n      <td>0.000000</td>\n      <td>0.000000</td>\n      <td>0.000000</td>\n      <td>0.000000</td>\n      <td>0.000000</td>\n      <td>0.000000</td>\n      <td>0.000000</td>\n      <td>0.000000</td>\n      <td>0.000000</td>\n      <td>...</td>\n      <td>0.00000</td>\n      <td>0.000000</td>\n      <td>0.00000</td>\n      <td>0.00</td>\n      <td>0.018182</td>\n      <td>0.000000</td>\n      <td>0.000000</td>\n      <td>0.000000</td>\n      <td>0.000000</td>\n      <td>0.000000</td>\n    </tr>\n    <tr>\n      <th>2</th>\n      <td>Brockton,Exhibition Place,Parkdale Village</td>\n      <td>0.000000</td>\n      <td>0.000000</td>\n      <td>0.000000</td>\n      <td>0.000000</td>\n      <td>0.000000</td>\n      <td>0.000000</td>\n      <td>0.000000</td>\n      <td>0.000000</td>\n      <td>0.000000</td>\n      <td>...</td>\n      <td>0.00000</td>\n      <td>0.000000</td>\n      <td>0.00000</td>\n      <td>0.00</td>\n      <td>0.000000</td>\n      <td>0.000000</td>\n      <td>0.000000</td>\n      <td>0.000000</td>\n      <td>0.000000</td>\n      <td>0.000000</td>\n    </tr>\n    <tr>\n      <th>3</th>\n      <td>Business Reply Mail Processing Centre 969 Eastern</td>\n      <td>0.000000</td>\n      <td>0.000000</td>\n      <td>0.000000</td>\n      <td>0.000000</td>\n      <td>0.000000</td>\n      <td>0.000000</td>\n      <td>0.000000</td>\n      <td>0.000000</td>\n      <td>0.000000</td>\n      <td>...</td>\n      <td>0.00000</td>\n      <td>0.000000</td>\n      <td>0.00000</td>\n      <td>0.00</td>\n      <td>0.000000</td>\n      <td>0.000000</td>\n      <td>0.000000</td>\n      <td>0.000000</td>\n      <td>0.000000</td>\n      <td>0.058824</td>\n    </tr>\n    <tr>\n      <th>4</th>\n      <td>CN Tower,Bathurst Quay,Island airport,Harbourf...</td>\n      <td>0.000000</td>\n      <td>0.058824</td>\n      <td>0.058824</td>\n      <td>0.058824</td>\n      <td>0.117647</td>\n      <td>0.176471</td>\n      <td>0.117647</td>\n      <td>0.000000</td>\n      <td>0.000000</td>\n      <td>...</td>\n      <td>0.00000</td>\n      <td>0.000000</td>\n      <td>0.00000</td>\n      <td>0.00</td>\n      <td>0.000000</td>\n      <td>0.000000</td>\n      <td>0.000000</td>\n      <td>0.000000</td>\n      <td>0.000000</td>\n      <td>0.000000</td>\n    </tr>\n    <tr>\n      <th>5</th>\n      <td>Cabbagetown,St. James Town</td>\n      <td>0.000000</td>\n      <td>0.000000</td>\n      <td>0.000000</td>\n      <td>0.000000</td>\n      <td>0.000000</td>\n      <td>0.000000</td>\n      <td>0.000000</td>\n      <td>0.021277</td>\n      <td>0.000000</td>\n      <td>...</td>\n      <td>0.00000</td>\n      <td>0.000000</td>\n      <td>0.00000</td>\n      <td>0.00</td>\n      <td>0.000000</td>\n      <td>0.000000</td>\n      <td>0.000000</td>\n      <td>0.000000</td>\n      <td>0.000000</td>\n      <td>0.000000</td>\n    </tr>\n    <tr>\n      <th>6</th>\n      <td>Central Bay Street</td>\n      <td>0.000000</td>\n      <td>0.000000</td>\n      <td>0.000000</td>\n      <td>0.000000</td>\n      <td>0.000000</td>\n      <td>0.000000</td>\n      <td>0.000000</td>\n      <td>0.012346</td>\n      <td>0.000000</td>\n      <td>...</td>\n      <td>0.00000</td>\n      <td>0.000000</td>\n      <td>0.00000</td>\n      <td>0.00</td>\n      <td>0.012346</td>\n      <td>0.000000</td>\n      <td>0.000000</td>\n      <td>0.012346</td>\n      <td>0.000000</td>\n      <td>0.012346</td>\n    </tr>\n    <tr>\n      <th>7</th>\n      <td>Chinatown,Grange Park,Kensington Market</td>\n      <td>0.000000</td>\n      <td>0.000000</td>\n      <td>0.000000</td>\n      <td>0.000000</td>\n      <td>0.000000</td>\n      <td>0.000000</td>\n      <td>0.000000</td>\n      <td>0.000000</td>\n      <td>0.000000</td>\n      <td>...</td>\n      <td>0.01000</td>\n      <td>0.000000</td>\n      <td>0.00000</td>\n      <td>0.00</td>\n      <td>0.060000</td>\n      <td>0.000000</td>\n      <td>0.040000</td>\n      <td>0.010000</td>\n      <td>0.000000</td>\n      <td>0.000000</td>\n    </tr>\n    <tr>\n      <th>8</th>\n      <td>Christie</td>\n      <td>0.000000</td>\n      <td>0.000000</td>\n      <td>0.000000</td>\n      <td>0.000000</td>\n      <td>0.000000</td>\n      <td>0.000000</td>\n      <td>0.000000</td>\n      <td>0.000000</td>\n      <td>0.000000</td>\n      <td>...</td>\n      <td>0.00000</td>\n      <td>0.000000</td>\n      <td>0.00000</td>\n      <td>0.00</td>\n      <td>0.000000</td>\n      <td>0.000000</td>\n      <td>0.000000</td>\n      <td>0.000000</td>\n      <td>0.000000</td>\n      <td>0.000000</td>\n    </tr>\n    <tr>\n      <th>9</th>\n      <td>Church and Wellesley</td>\n      <td>0.011765</td>\n      <td>0.000000</td>\n      <td>0.000000</td>\n      <td>0.000000</td>\n      <td>0.000000</td>\n      <td>0.000000</td>\n      <td>0.000000</td>\n      <td>0.011765</td>\n      <td>0.000000</td>\n      <td>...</td>\n      <td>0.00000</td>\n      <td>0.000000</td>\n      <td>0.00000</td>\n      <td>0.00</td>\n      <td>0.000000</td>\n      <td>0.011765</td>\n      <td>0.011765</td>\n      <td>0.000000</td>\n      <td>0.011765</td>\n      <td>0.011765</td>\n    </tr>\n    <tr>\n      <th>10</th>\n      <td>Commerce Court,Victoria Hotel</td>\n      <td>0.000000</td>\n      <td>0.000000</td>\n      <td>0.000000</td>\n      <td>0.000000</td>\n      <td>0.000000</td>\n      <td>0.000000</td>\n      <td>0.000000</td>\n      <td>0.040000</td>\n      <td>0.000000</td>\n      <td>...</td>\n      <td>0.00000</td>\n      <td>0.000000</td>\n      <td>0.00000</td>\n      <td>0.00</td>\n      <td>0.020000</td>\n      <td>0.000000</td>\n      <td>0.000000</td>\n      <td>0.010000</td>\n      <td>0.000000</td>\n      <td>0.000000</td>\n    </tr>\n    <tr>\n      <th>11</th>\n      <td>Davisville</td>\n      <td>0.000000</td>\n      <td>0.000000</td>\n      <td>0.000000</td>\n      <td>0.000000</td>\n      <td>0.000000</td>\n      <td>0.000000</td>\n      <td>0.000000</td>\n      <td>0.000000</td>\n      <td>0.000000</td>\n      <td>...</td>\n      <td>0.00000</td>\n      <td>0.029412</td>\n      <td>0.00000</td>\n      <td>0.00</td>\n      <td>0.000000</td>\n      <td>0.000000</td>\n      <td>0.000000</td>\n      <td>0.000000</td>\n      <td>0.000000</td>\n      <td>0.000000</td>\n    </tr>\n    <tr>\n      <th>12</th>\n      <td>Davisville North</td>\n      <td>0.000000</td>\n      <td>0.000000</td>\n      <td>0.000000</td>\n      <td>0.000000</td>\n      <td>0.000000</td>\n      <td>0.000000</td>\n      <td>0.000000</td>\n      <td>0.000000</td>\n      <td>0.000000</td>\n      <td>...</td>\n      <td>0.00000</td>\n      <td>0.000000</td>\n      <td>0.00000</td>\n      <td>0.00</td>\n      <td>0.000000</td>\n      <td>0.000000</td>\n      <td>0.000000</td>\n      <td>0.000000</td>\n      <td>0.000000</td>\n      <td>0.000000</td>\n    </tr>\n    <tr>\n      <th>13</th>\n      <td>Deer Park,Forest Hill SE,Rathnelly,South Hill,...</td>\n      <td>0.000000</td>\n      <td>0.000000</td>\n      <td>0.000000</td>\n      <td>0.000000</td>\n      <td>0.000000</td>\n      <td>0.000000</td>\n      <td>0.000000</td>\n      <td>0.066667</td>\n      <td>0.000000</td>\n      <td>...</td>\n      <td>0.00000</td>\n      <td>0.000000</td>\n      <td>0.00000</td>\n      <td>0.00</td>\n      <td>0.000000</td>\n      <td>0.000000</td>\n      <td>0.066667</td>\n      <td>0.000000</td>\n      <td>0.000000</td>\n      <td>0.000000</td>\n    </tr>\n    <tr>\n      <th>14</th>\n      <td>Design Exchange,Toronto Dominion Centre</td>\n      <td>0.000000</td>\n      <td>0.000000</td>\n      <td>0.000000</td>\n      <td>0.000000</td>\n      <td>0.000000</td>\n      <td>0.000000</td>\n      <td>0.000000</td>\n      <td>0.030000</td>\n      <td>0.000000</td>\n      <td>...</td>\n      <td>0.00000</td>\n      <td>0.000000</td>\n      <td>0.00000</td>\n      <td>0.01</td>\n      <td>0.010000</td>\n      <td>0.000000</td>\n      <td>0.000000</td>\n      <td>0.010000</td>\n      <td>0.000000</td>\n      <td>0.000000</td>\n    </tr>\n    <tr>\n      <th>15</th>\n      <td>Dovercourt Village,Dufferin</td>\n      <td>0.000000</td>\n      <td>0.000000</td>\n      <td>0.000000</td>\n      <td>0.000000</td>\n      <td>0.000000</td>\n      <td>0.000000</td>\n      <td>0.000000</td>\n      <td>0.000000</td>\n      <td>0.000000</td>\n      <td>...</td>\n      <td>0.00000</td>\n      <td>0.000000</td>\n      <td>0.00000</td>\n      <td>0.00</td>\n      <td>0.000000</td>\n      <td>0.000000</td>\n      <td>0.000000</td>\n      <td>0.000000</td>\n      <td>0.000000</td>\n      <td>0.000000</td>\n    </tr>\n    <tr>\n      <th>16</th>\n      <td>First Canadian Place,Underground city</td>\n      <td>0.000000</td>\n      <td>0.000000</td>\n      <td>0.000000</td>\n      <td>0.000000</td>\n      <td>0.000000</td>\n      <td>0.000000</td>\n      <td>0.000000</td>\n      <td>0.030000</td>\n      <td>0.000000</td>\n      <td>...</td>\n      <td>0.00000</td>\n      <td>0.000000</td>\n      <td>0.00000</td>\n      <td>0.01</td>\n      <td>0.010000</td>\n      <td>0.000000</td>\n      <td>0.000000</td>\n      <td>0.010000</td>\n      <td>0.000000</td>\n      <td>0.000000</td>\n    </tr>\n    <tr>\n      <th>17</th>\n      <td>Forest Hill North,Forest Hill West</td>\n      <td>0.000000</td>\n      <td>0.000000</td>\n      <td>0.000000</td>\n      <td>0.000000</td>\n      <td>0.000000</td>\n      <td>0.000000</td>\n      <td>0.000000</td>\n      <td>0.000000</td>\n      <td>0.000000</td>\n      <td>...</td>\n      <td>0.00000</td>\n      <td>0.000000</td>\n      <td>0.25000</td>\n      <td>0.00</td>\n      <td>0.000000</td>\n      <td>0.000000</td>\n      <td>0.000000</td>\n      <td>0.000000</td>\n      <td>0.000000</td>\n      <td>0.000000</td>\n    </tr>\n    <tr>\n      <th>18</th>\n      <td>Harbord,University of Toronto</td>\n      <td>0.000000</td>\n      <td>0.000000</td>\n      <td>0.000000</td>\n      <td>0.000000</td>\n      <td>0.000000</td>\n      <td>0.000000</td>\n      <td>0.000000</td>\n      <td>0.000000</td>\n      <td>0.000000</td>\n      <td>...</td>\n      <td>0.00000</td>\n      <td>0.000000</td>\n      <td>0.00000</td>\n      <td>0.00</td>\n      <td>0.000000</td>\n      <td>0.029412</td>\n      <td>0.000000</td>\n      <td>0.000000</td>\n      <td>0.000000</td>\n      <td>0.029412</td>\n    </tr>\n    <tr>\n      <th>19</th>\n      <td>Harbourfront East,Toronto Islands,Union Station</td>\n      <td>0.000000</td>\n      <td>0.000000</td>\n      <td>0.000000</td>\n      <td>0.000000</td>\n      <td>0.000000</td>\n      <td>0.000000</td>\n      <td>0.000000</td>\n      <td>0.000000</td>\n      <td>0.000000</td>\n      <td>...</td>\n      <td>0.00000</td>\n      <td>0.000000</td>\n      <td>0.00000</td>\n      <td>0.01</td>\n      <td>0.010000</td>\n      <td>0.000000</td>\n      <td>0.000000</td>\n      <td>0.010000</td>\n      <td>0.000000</td>\n      <td>0.000000</td>\n    </tr>\n    <tr>\n      <th>20</th>\n      <td>Harbourfront,Regent Park</td>\n      <td>0.000000</td>\n      <td>0.000000</td>\n      <td>0.000000</td>\n      <td>0.000000</td>\n      <td>0.000000</td>\n      <td>0.000000</td>\n      <td>0.000000</td>\n      <td>0.000000</td>\n      <td>0.021277</td>\n      <td>...</td>\n      <td>0.00000</td>\n      <td>0.000000</td>\n      <td>0.00000</td>\n      <td>0.00</td>\n      <td>0.000000</td>\n      <td>0.000000</td>\n      <td>0.000000</td>\n      <td>0.000000</td>\n      <td>0.000000</td>\n      <td>0.000000</td>\n    </tr>\n    <tr>\n      <th>21</th>\n      <td>High Park,The Junction South</td>\n      <td>0.000000</td>\n      <td>0.000000</td>\n      <td>0.000000</td>\n      <td>0.000000</td>\n      <td>0.000000</td>\n      <td>0.000000</td>\n      <td>0.000000</td>\n      <td>0.000000</td>\n      <td>0.043478</td>\n      <td>...</td>\n      <td>0.00000</td>\n      <td>0.000000</td>\n      <td>0.00000</td>\n      <td>0.00</td>\n      <td>0.000000</td>\n      <td>0.000000</td>\n      <td>0.000000</td>\n      <td>0.000000</td>\n      <td>0.000000</td>\n      <td>0.000000</td>\n    </tr>\n    <tr>\n      <th>22</th>\n      <td>Lawrence Park</td>\n      <td>0.000000</td>\n      <td>0.000000</td>\n      <td>0.000000</td>\n      <td>0.000000</td>\n      <td>0.000000</td>\n      <td>0.000000</td>\n      <td>0.000000</td>\n      <td>0.000000</td>\n      <td>0.000000</td>\n      <td>...</td>\n      <td>0.00000</td>\n      <td>0.000000</td>\n      <td>0.00000</td>\n      <td>0.00</td>\n      <td>0.000000</td>\n      <td>0.000000</td>\n      <td>0.000000</td>\n      <td>0.000000</td>\n      <td>0.000000</td>\n      <td>0.000000</td>\n    </tr>\n    <tr>\n      <th>23</th>\n      <td>Little Portugal,Trinity</td>\n      <td>0.000000</td>\n      <td>0.000000</td>\n      <td>0.000000</td>\n      <td>0.000000</td>\n      <td>0.000000</td>\n      <td>0.000000</td>\n      <td>0.000000</td>\n      <td>0.000000</td>\n      <td>0.000000</td>\n      <td>...</td>\n      <td>0.00000</td>\n      <td>0.000000</td>\n      <td>0.00000</td>\n      <td>0.00</td>\n      <td>0.015873</td>\n      <td>0.000000</td>\n      <td>0.031746</td>\n      <td>0.015873</td>\n      <td>0.000000</td>\n      <td>0.015873</td>\n    </tr>\n    <tr>\n      <th>24</th>\n      <td>Moore Park,Summerhill East</td>\n      <td>0.000000</td>\n      <td>0.000000</td>\n      <td>0.000000</td>\n      <td>0.000000</td>\n      <td>0.000000</td>\n      <td>0.000000</td>\n      <td>0.000000</td>\n      <td>0.000000</td>\n      <td>0.000000</td>\n      <td>...</td>\n      <td>0.00000</td>\n      <td>0.000000</td>\n      <td>0.00000</td>\n      <td>0.00</td>\n      <td>0.000000</td>\n      <td>0.000000</td>\n      <td>0.000000</td>\n      <td>0.000000</td>\n      <td>0.000000</td>\n      <td>0.000000</td>\n    </tr>\n    <tr>\n      <th>25</th>\n      <td>North Toronto West</td>\n      <td>0.000000</td>\n      <td>0.000000</td>\n      <td>0.000000</td>\n      <td>0.000000</td>\n      <td>0.000000</td>\n      <td>0.000000</td>\n      <td>0.000000</td>\n      <td>0.000000</td>\n      <td>0.000000</td>\n      <td>...</td>\n      <td>0.00000</td>\n      <td>0.000000</td>\n      <td>0.00000</td>\n      <td>0.00</td>\n      <td>0.000000</td>\n      <td>0.000000</td>\n      <td>0.000000</td>\n      <td>0.000000</td>\n      <td>0.000000</td>\n      <td>0.052632</td>\n    </tr>\n    <tr>\n      <th>26</th>\n      <td>Parkdale,Roncesvalles</td>\n      <td>0.000000</td>\n      <td>0.000000</td>\n      <td>0.000000</td>\n      <td>0.000000</td>\n      <td>0.000000</td>\n      <td>0.000000</td>\n      <td>0.000000</td>\n      <td>0.000000</td>\n      <td>0.000000</td>\n      <td>...</td>\n      <td>0.00000</td>\n      <td>0.000000</td>\n      <td>0.00000</td>\n      <td>0.00</td>\n      <td>0.000000</td>\n      <td>0.000000</td>\n      <td>0.000000</td>\n      <td>0.000000</td>\n      <td>0.000000</td>\n      <td>0.000000</td>\n    </tr>\n    <tr>\n      <th>27</th>\n      <td>Rosedale</td>\n      <td>0.000000</td>\n      <td>0.000000</td>\n      <td>0.000000</td>\n      <td>0.000000</td>\n      <td>0.000000</td>\n      <td>0.000000</td>\n      <td>0.000000</td>\n      <td>0.000000</td>\n      <td>0.000000</td>\n      <td>...</td>\n      <td>0.00000</td>\n      <td>0.000000</td>\n      <td>0.20000</td>\n      <td>0.00</td>\n      <td>0.000000</td>\n      <td>0.000000</td>\n      <td>0.000000</td>\n      <td>0.000000</td>\n      <td>0.000000</td>\n      <td>0.000000</td>\n    </tr>\n    <tr>\n      <th>28</th>\n      <td>Roselawn</td>\n      <td>0.000000</td>\n      <td>0.000000</td>\n      <td>0.000000</td>\n      <td>0.000000</td>\n      <td>0.000000</td>\n      <td>0.000000</td>\n      <td>0.000000</td>\n      <td>0.000000</td>\n      <td>0.000000</td>\n      <td>...</td>\n      <td>0.00000</td>\n      <td>0.000000</td>\n      <td>0.00000</td>\n      <td>0.00</td>\n      <td>0.000000</td>\n      <td>0.000000</td>\n      <td>0.000000</td>\n      <td>0.000000</td>\n      <td>0.000000</td>\n      <td>0.000000</td>\n    </tr>\n    <tr>\n      <th>29</th>\n      <td>Runnymede,Swansea</td>\n      <td>0.000000</td>\n      <td>0.000000</td>\n      <td>0.000000</td>\n      <td>0.000000</td>\n      <td>0.000000</td>\n      <td>0.000000</td>\n      <td>0.000000</td>\n      <td>0.000000</td>\n      <td>0.000000</td>\n      <td>...</td>\n      <td>0.00000</td>\n      <td>0.000000</td>\n      <td>0.00000</td>\n      <td>0.00</td>\n      <td>0.028571</td>\n      <td>0.000000</td>\n      <td>0.000000</td>\n      <td>0.000000</td>\n      <td>0.000000</td>\n      <td>0.000000</td>\n    </tr>\n    <tr>\n      <th>30</th>\n      <td>Ryerson,Garden District</td>\n      <td>0.000000</td>\n      <td>0.000000</td>\n      <td>0.000000</td>\n      <td>0.000000</td>\n      <td>0.000000</td>\n      <td>0.000000</td>\n      <td>0.000000</td>\n      <td>0.010000</td>\n      <td>0.000000</td>\n      <td>...</td>\n      <td>0.00000</td>\n      <td>0.010000</td>\n      <td>0.00000</td>\n      <td>0.00</td>\n      <td>0.010000</td>\n      <td>0.010000</td>\n      <td>0.010000</td>\n      <td>0.010000</td>\n      <td>0.000000</td>\n      <td>0.000000</td>\n    </tr>\n    <tr>\n      <th>31</th>\n      <td>St. James Town</td>\n      <td>0.000000</td>\n      <td>0.000000</td>\n      <td>0.000000</td>\n      <td>0.000000</td>\n      <td>0.000000</td>\n      <td>0.000000</td>\n      <td>0.000000</td>\n      <td>0.020000</td>\n      <td>0.000000</td>\n      <td>...</td>\n      <td>0.00000</td>\n      <td>0.000000</td>\n      <td>0.00000</td>\n      <td>0.00</td>\n      <td>0.010000</td>\n      <td>0.000000</td>\n      <td>0.000000</td>\n      <td>0.000000</td>\n      <td>0.000000</td>\n      <td>0.000000</td>\n    </tr>\n    <tr>\n      <th>32</th>\n      <td>Stn A PO Boxes 25 The Esplanade</td>\n      <td>0.000000</td>\n      <td>0.000000</td>\n      <td>0.000000</td>\n      <td>0.000000</td>\n      <td>0.000000</td>\n      <td>0.000000</td>\n      <td>0.000000</td>\n      <td>0.010417</td>\n      <td>0.010417</td>\n      <td>...</td>\n      <td>0.00000</td>\n      <td>0.000000</td>\n      <td>0.00000</td>\n      <td>0.00</td>\n      <td>0.010417</td>\n      <td>0.000000</td>\n      <td>0.000000</td>\n      <td>0.000000</td>\n      <td>0.000000</td>\n      <td>0.000000</td>\n    </tr>\n    <tr>\n      <th>33</th>\n      <td>Studio District</td>\n      <td>0.000000</td>\n      <td>0.000000</td>\n      <td>0.000000</td>\n      <td>0.000000</td>\n      <td>0.000000</td>\n      <td>0.000000</td>\n      <td>0.000000</td>\n      <td>0.048780</td>\n      <td>0.000000</td>\n      <td>...</td>\n      <td>0.02439</td>\n      <td>0.000000</td>\n      <td>0.00000</td>\n      <td>0.00</td>\n      <td>0.000000</td>\n      <td>0.000000</td>\n      <td>0.000000</td>\n      <td>0.000000</td>\n      <td>0.000000</td>\n      <td>0.024390</td>\n    </tr>\n    <tr>\n      <th>34</th>\n      <td>The Annex,North Midtown,Yorkville</td>\n      <td>0.000000</td>\n      <td>0.000000</td>\n      <td>0.000000</td>\n      <td>0.000000</td>\n      <td>0.000000</td>\n      <td>0.000000</td>\n      <td>0.000000</td>\n      <td>0.040000</td>\n      <td>0.000000</td>\n      <td>...</td>\n      <td>0.00000</td>\n      <td>0.000000</td>\n      <td>0.00000</td>\n      <td>0.00</td>\n      <td>0.040000</td>\n      <td>0.000000</td>\n      <td>0.000000</td>\n      <td>0.000000</td>\n      <td>0.000000</td>\n      <td>0.000000</td>\n    </tr>\n    <tr>\n      <th>35</th>\n      <td>The Beaches</td>\n      <td>0.000000</td>\n      <td>0.000000</td>\n      <td>0.000000</td>\n      <td>0.000000</td>\n      <td>0.000000</td>\n      <td>0.000000</td>\n      <td>0.000000</td>\n      <td>0.000000</td>\n      <td>0.000000</td>\n      <td>...</td>\n      <td>0.00000</td>\n      <td>0.000000</td>\n      <td>0.25000</td>\n      <td>0.00</td>\n      <td>0.000000</td>\n      <td>0.000000</td>\n      <td>0.000000</td>\n      <td>0.000000</td>\n      <td>0.000000</td>\n      <td>0.000000</td>\n    </tr>\n    <tr>\n      <th>36</th>\n      <td>The Beaches West,India Bazaar</td>\n      <td>0.000000</td>\n      <td>0.000000</td>\n      <td>0.000000</td>\n      <td>0.000000</td>\n      <td>0.000000</td>\n      <td>0.000000</td>\n      <td>0.000000</td>\n      <td>0.000000</td>\n      <td>0.000000</td>\n      <td>...</td>\n      <td>0.00000</td>\n      <td>0.000000</td>\n      <td>0.00000</td>\n      <td>0.00</td>\n      <td>0.000000</td>\n      <td>0.000000</td>\n      <td>0.000000</td>\n      <td>0.000000</td>\n      <td>0.000000</td>\n      <td>0.000000</td>\n    </tr>\n    <tr>\n      <th>37</th>\n      <td>The Danforth West,Riverdale</td>\n      <td>0.000000</td>\n      <td>0.000000</td>\n      <td>0.000000</td>\n      <td>0.000000</td>\n      <td>0.000000</td>\n      <td>0.000000</td>\n      <td>0.000000</td>\n      <td>0.023810</td>\n      <td>0.000000</td>\n      <td>...</td>\n      <td>0.00000</td>\n      <td>0.000000</td>\n      <td>0.02381</td>\n      <td>0.00</td>\n      <td>0.000000</td>\n      <td>0.000000</td>\n      <td>0.000000</td>\n      <td>0.000000</td>\n      <td>0.000000</td>\n      <td>0.023810</td>\n    </tr>\n  </tbody>\n</table>\n<p>38 rows \u00d7 239 columns</p>\n</div>", 
                        "text/plain": "                                         Neighborhood  Afghan Restaurant  \\\n0                              Adelaide,King,Richmond           0.000000   \n1                                         Berczy Park           0.000000   \n2          Brockton,Exhibition Place,Parkdale Village           0.000000   \n3   Business Reply Mail Processing Centre 969 Eastern           0.000000   \n4   CN Tower,Bathurst Quay,Island airport,Harbourf...           0.000000   \n5                          Cabbagetown,St. James Town           0.000000   \n6                                  Central Bay Street           0.000000   \n7             Chinatown,Grange Park,Kensington Market           0.000000   \n8                                            Christie           0.000000   \n9                                Church and Wellesley           0.011765   \n10                      Commerce Court,Victoria Hotel           0.000000   \n11                                         Davisville           0.000000   \n12                                   Davisville North           0.000000   \n13  Deer Park,Forest Hill SE,Rathnelly,South Hill,...           0.000000   \n14            Design Exchange,Toronto Dominion Centre           0.000000   \n15                        Dovercourt Village,Dufferin           0.000000   \n16              First Canadian Place,Underground city           0.000000   \n17                 Forest Hill North,Forest Hill West           0.000000   \n18                      Harbord,University of Toronto           0.000000   \n19    Harbourfront East,Toronto Islands,Union Station           0.000000   \n20                           Harbourfront,Regent Park           0.000000   \n21                       High Park,The Junction South           0.000000   \n22                                      Lawrence Park           0.000000   \n23                            Little Portugal,Trinity           0.000000   \n24                         Moore Park,Summerhill East           0.000000   \n25                                 North Toronto West           0.000000   \n26                              Parkdale,Roncesvalles           0.000000   \n27                                           Rosedale           0.000000   \n28                                           Roselawn           0.000000   \n29                                  Runnymede,Swansea           0.000000   \n30                            Ryerson,Garden District           0.000000   \n31                                     St. James Town           0.000000   \n32                    Stn A PO Boxes 25 The Esplanade           0.000000   \n33                                    Studio District           0.000000   \n34                  The Annex,North Midtown,Yorkville           0.000000   \n35                                        The Beaches           0.000000   \n36                      The Beaches West,India Bazaar           0.000000   \n37                        The Danforth West,Riverdale           0.000000   \n\n     Airport  Airport Food Court  Airport Gate  Airport Lounge  \\\n0   0.000000            0.000000      0.000000        0.000000   \n1   0.000000            0.000000      0.000000        0.000000   \n2   0.000000            0.000000      0.000000        0.000000   \n3   0.000000            0.000000      0.000000        0.000000   \n4   0.058824            0.058824      0.058824        0.117647   \n5   0.000000            0.000000      0.000000        0.000000   \n6   0.000000            0.000000      0.000000        0.000000   \n7   0.000000            0.000000      0.000000        0.000000   \n8   0.000000            0.000000      0.000000        0.000000   \n9   0.000000            0.000000      0.000000        0.000000   \n10  0.000000            0.000000      0.000000        0.000000   \n11  0.000000            0.000000      0.000000        0.000000   \n12  0.000000            0.000000      0.000000        0.000000   \n13  0.000000            0.000000      0.000000        0.000000   \n14  0.000000            0.000000      0.000000        0.000000   \n15  0.000000            0.000000      0.000000        0.000000   \n16  0.000000            0.000000      0.000000        0.000000   \n17  0.000000            0.000000      0.000000        0.000000   \n18  0.000000            0.000000      0.000000        0.000000   \n19  0.000000            0.000000      0.000000        0.000000   \n20  0.000000            0.000000      0.000000        0.000000   \n21  0.000000            0.000000      0.000000        0.000000   \n22  0.000000            0.000000      0.000000        0.000000   \n23  0.000000            0.000000      0.000000        0.000000   \n24  0.000000            0.000000      0.000000        0.000000   \n25  0.000000            0.000000      0.000000        0.000000   \n26  0.000000            0.000000      0.000000        0.000000   \n27  0.000000            0.000000      0.000000        0.000000   \n28  0.000000            0.000000      0.000000        0.000000   \n29  0.000000            0.000000      0.000000        0.000000   \n30  0.000000            0.000000      0.000000        0.000000   \n31  0.000000            0.000000      0.000000        0.000000   \n32  0.000000            0.000000      0.000000        0.000000   \n33  0.000000            0.000000      0.000000        0.000000   \n34  0.000000            0.000000      0.000000        0.000000   \n35  0.000000            0.000000      0.000000        0.000000   \n36  0.000000            0.000000      0.000000        0.000000   \n37  0.000000            0.000000      0.000000        0.000000   \n\n    Airport Service  Airport Terminal  American Restaurant  Antique Shop  ...  \\\n0          0.000000          0.000000             0.030000      0.000000  ...   \n1          0.000000          0.000000             0.000000      0.000000  ...   \n2          0.000000          0.000000             0.000000      0.000000  ...   \n3          0.000000          0.000000             0.000000      0.000000  ...   \n4          0.176471          0.117647             0.000000      0.000000  ...   \n5          0.000000          0.000000             0.021277      0.000000  ...   \n6          0.000000          0.000000             0.012346      0.000000  ...   \n7          0.000000          0.000000             0.000000      0.000000  ...   \n8          0.000000          0.000000             0.000000      0.000000  ...   \n9          0.000000          0.000000             0.011765      0.000000  ...   \n10         0.000000          0.000000             0.040000      0.000000  ...   \n11         0.000000          0.000000             0.000000      0.000000  ...   \n12         0.000000          0.000000             0.000000      0.000000  ...   \n13         0.000000          0.000000             0.066667      0.000000  ...   \n14         0.000000          0.000000             0.030000      0.000000  ...   \n15         0.000000          0.000000             0.000000      0.000000  ...   \n16         0.000000          0.000000             0.030000      0.000000  ...   \n17         0.000000          0.000000             0.000000      0.000000  ...   \n18         0.000000          0.000000             0.000000      0.000000  ...   \n19         0.000000          0.000000             0.000000      0.000000  ...   \n20         0.000000          0.000000             0.000000      0.021277  ...   \n21         0.000000          0.000000             0.000000      0.043478  ...   \n22         0.000000          0.000000             0.000000      0.000000  ...   \n23         0.000000          0.000000             0.000000      0.000000  ...   \n24         0.000000          0.000000             0.000000      0.000000  ...   \n25         0.000000          0.000000             0.000000      0.000000  ...   \n26         0.000000          0.000000             0.000000      0.000000  ...   \n27         0.000000          0.000000             0.000000      0.000000  ...   \n28         0.000000          0.000000             0.000000      0.000000  ...   \n29         0.000000          0.000000             0.000000      0.000000  ...   \n30         0.000000          0.000000             0.010000      0.000000  ...   \n31         0.000000          0.000000             0.020000      0.000000  ...   \n32         0.000000          0.000000             0.010417      0.010417  ...   \n33         0.000000          0.000000             0.048780      0.000000  ...   \n34         0.000000          0.000000             0.040000      0.000000  ...   \n35         0.000000          0.000000             0.000000      0.000000  ...   \n36         0.000000          0.000000             0.000000      0.000000  ...   \n37         0.000000          0.000000             0.023810      0.000000  ...   \n\n    Thrift / Vintage Store  Toy / Game Store    Trail  Train Station  \\\n0                  0.00000          0.000000  0.00000           0.00   \n1                  0.00000          0.000000  0.00000           0.00   \n2                  0.00000          0.000000  0.00000           0.00   \n3                  0.00000          0.000000  0.00000           0.00   \n4                  0.00000          0.000000  0.00000           0.00   \n5                  0.00000          0.000000  0.00000           0.00   \n6                  0.00000          0.000000  0.00000           0.00   \n7                  0.01000          0.000000  0.00000           0.00   \n8                  0.00000          0.000000  0.00000           0.00   \n9                  0.00000          0.000000  0.00000           0.00   \n10                 0.00000          0.000000  0.00000           0.00   \n11                 0.00000          0.029412  0.00000           0.00   \n12                 0.00000          0.000000  0.00000           0.00   \n13                 0.00000          0.000000  0.00000           0.00   \n14                 0.00000          0.000000  0.00000           0.01   \n15                 0.00000          0.000000  0.00000           0.00   \n16                 0.00000          0.000000  0.00000           0.01   \n17                 0.00000          0.000000  0.25000           0.00   \n18                 0.00000          0.000000  0.00000           0.00   \n19                 0.00000          0.000000  0.00000           0.01   \n20                 0.00000          0.000000  0.00000           0.00   \n21                 0.00000          0.000000  0.00000           0.00   \n22                 0.00000          0.000000  0.00000           0.00   \n23                 0.00000          0.000000  0.00000           0.00   \n24                 0.00000          0.000000  0.00000           0.00   \n25                 0.00000          0.000000  0.00000           0.00   \n26                 0.00000          0.000000  0.00000           0.00   \n27                 0.00000          0.000000  0.20000           0.00   \n28                 0.00000          0.000000  0.00000           0.00   \n29                 0.00000          0.000000  0.00000           0.00   \n30                 0.00000          0.010000  0.00000           0.00   \n31                 0.00000          0.000000  0.00000           0.00   \n32                 0.00000          0.000000  0.00000           0.00   \n33                 0.02439          0.000000  0.00000           0.00   \n34                 0.00000          0.000000  0.00000           0.00   \n35                 0.00000          0.000000  0.25000           0.00   \n36                 0.00000          0.000000  0.00000           0.00   \n37                 0.00000          0.000000  0.02381           0.00   \n\n    Vegetarian / Vegan Restaurant  Video Game Store  Vietnamese Restaurant  \\\n0                        0.010000          0.000000               0.000000   \n1                        0.018182          0.000000               0.000000   \n2                        0.000000          0.000000               0.000000   \n3                        0.000000          0.000000               0.000000   \n4                        0.000000          0.000000               0.000000   \n5                        0.000000          0.000000               0.000000   \n6                        0.012346          0.000000               0.000000   \n7                        0.060000          0.000000               0.040000   \n8                        0.000000          0.000000               0.000000   \n9                        0.000000          0.011765               0.011765   \n10                       0.020000          0.000000               0.000000   \n11                       0.000000          0.000000               0.000000   \n12                       0.000000          0.000000               0.000000   \n13                       0.000000          0.000000               0.066667   \n14                       0.010000          0.000000               0.000000   \n15                       0.000000          0.000000               0.000000   \n16                       0.010000          0.000000               0.000000   \n17                       0.000000          0.000000               0.000000   \n18                       0.000000          0.029412               0.000000   \n19                       0.010000          0.000000               0.000000   \n20                       0.000000          0.000000               0.000000   \n21                       0.000000          0.000000               0.000000   \n22                       0.000000          0.000000               0.000000   \n23                       0.015873          0.000000               0.031746   \n24                       0.000000          0.000000               0.000000   \n25                       0.000000          0.000000               0.000000   \n26                       0.000000          0.000000               0.000000   \n27                       0.000000          0.000000               0.000000   \n28                       0.000000          0.000000               0.000000   \n29                       0.028571          0.000000               0.000000   \n30                       0.010000          0.010000               0.010000   \n31                       0.010000          0.000000               0.000000   \n32                       0.010417          0.000000               0.000000   \n33                       0.000000          0.000000               0.000000   \n34                       0.040000          0.000000               0.000000   \n35                       0.000000          0.000000               0.000000   \n36                       0.000000          0.000000               0.000000   \n37                       0.000000          0.000000               0.000000   \n\n    Wine Bar  Wings Joint  Yoga Studio  \n0   0.010000     0.000000     0.000000  \n1   0.000000     0.000000     0.000000  \n2   0.000000     0.000000     0.000000  \n3   0.000000     0.000000     0.058824  \n4   0.000000     0.000000     0.000000  \n5   0.000000     0.000000     0.000000  \n6   0.012346     0.000000     0.012346  \n7   0.010000     0.000000     0.000000  \n8   0.000000     0.000000     0.000000  \n9   0.000000     0.011765     0.011765  \n10  0.010000     0.000000     0.000000  \n11  0.000000     0.000000     0.000000  \n12  0.000000     0.000000     0.000000  \n13  0.000000     0.000000     0.000000  \n14  0.010000     0.000000     0.000000  \n15  0.000000     0.000000     0.000000  \n16  0.010000     0.000000     0.000000  \n17  0.000000     0.000000     0.000000  \n18  0.000000     0.000000     0.029412  \n19  0.010000     0.000000     0.000000  \n20  0.000000     0.000000     0.000000  \n21  0.000000     0.000000     0.000000  \n22  0.000000     0.000000     0.000000  \n23  0.015873     0.000000     0.015873  \n24  0.000000     0.000000     0.000000  \n25  0.000000     0.000000     0.052632  \n26  0.000000     0.000000     0.000000  \n27  0.000000     0.000000     0.000000  \n28  0.000000     0.000000     0.000000  \n29  0.000000     0.000000     0.000000  \n30  0.010000     0.000000     0.000000  \n31  0.000000     0.000000     0.000000  \n32  0.000000     0.000000     0.000000  \n33  0.000000     0.000000     0.024390  \n34  0.000000     0.000000     0.000000  \n35  0.000000     0.000000     0.000000  \n36  0.000000     0.000000     0.000000  \n37  0.000000     0.000000     0.023810  \n\n[38 rows x 239 columns]"
                    }, 
                    "execution_count": 164, 
                    "metadata": {}
                }
            ], 
            "execution_count": 164
        }, 
        {
            "source": "toronto_grouped.shape", 
            "cell_type": "code", 
            "metadata": {
                "scrolled": true
            }, 
            "outputs": [
                {
                    "output_type": "execute_result", 
                    "data": {
                        "text/plain": "(38, 239)"
                    }, 
                    "execution_count": 166, 
                    "metadata": {}
                }
            ], 
            "execution_count": 166
        }, 
        {
            "source": "### setting a pandas dataframe with highst ten venues for each neighborhood\n", 
            "cell_type": "markdown", 
            "metadata": {}
        }, 
        {
            "source": "#function to sort the venues in descending order\n\ndef return_most_common_venues(row, num_top_venues):\n    row_categories = row.iloc[1:]\n    row_categories_sorted = row_categories.sort_values(ascending=False)\n    \n    return row_categories_sorted.index.values[0:num_top_venues]", 
            "cell_type": "code", 
            "metadata": {}, 
            "outputs": [], 
            "execution_count": 167
        }, 
        {
            "source": "num_top_venues = 10\n\nindicators = ['st', 'nd', 'rd']\n\n# create columns according to number of top venues\ncolumns = ['Neighborhood']\nfor ind in np.arange(num_top_venues):\n    try:\n        columns.append('{}{} Most Common Venue'.format(ind+1, indicators[ind]))\n    except:\n        columns.append('{}th Most Common Venue'.format(ind+1))\n\n# create a new dataframe\nneighborhoods_venues_sorted = pd.DataFrame(columns=columns)\nneighborhoods_venues_sorted['Neighborhood'] = toronto_grouped['Neighborhood']\n\nfor ind in np.arange(tor_grouped.shape[0]):\n    neighborhoods_venues_sorted.iloc[ind, 1:] = return_most_common_venues(tor_grouped.iloc[ind, :], num_top_venues)\n\nneighborhoods_venues_sorted.head()\n", 
            "cell_type": "code", 
            "metadata": {
                "scrolled": true
            }, 
            "outputs": [
                {
                    "output_type": "execute_result", 
                    "data": {
                        "text/html": "<div>\n<style scoped>\n    .dataframe tbody tr th:only-of-type {\n        vertical-align: middle;\n    }\n\n    .dataframe tbody tr th {\n        vertical-align: top;\n    }\n\n    .dataframe thead th {\n        text-align: right;\n    }\n</style>\n<table border=\"1\" class=\"dataframe\">\n  <thead>\n    <tr style=\"text-align: right;\">\n      <th></th>\n      <th>Neighborhood</th>\n      <th>1st Most Common Venue</th>\n      <th>2nd Most Common Venue</th>\n      <th>3rd Most Common Venue</th>\n      <th>4th Most Common Venue</th>\n      <th>5th Most Common Venue</th>\n      <th>6th Most Common Venue</th>\n      <th>7th Most Common Venue</th>\n      <th>8th Most Common Venue</th>\n      <th>9th Most Common Venue</th>\n      <th>10th Most Common Venue</th>\n    </tr>\n  </thead>\n  <tbody>\n    <tr>\n      <th>0</th>\n      <td>Adelaide,King,Richmond</td>\n      <td>Coffee Shop</td>\n      <td>Caf\u00e9</td>\n      <td>Bar</td>\n      <td>Steakhouse</td>\n      <td>Thai Restaurant</td>\n      <td>Cosmetics Shop</td>\n      <td>Asian Restaurant</td>\n      <td>Breakfast Spot</td>\n      <td>Restaurant</td>\n      <td>Burger Joint</td>\n    </tr>\n    <tr>\n      <th>1</th>\n      <td>Berczy Park</td>\n      <td>Coffee Shop</td>\n      <td>Bakery</td>\n      <td>Cocktail Bar</td>\n      <td>Beer Bar</td>\n      <td>Steakhouse</td>\n      <td>Cheese Shop</td>\n      <td>Caf\u00e9</td>\n      <td>Seafood Restaurant</td>\n      <td>Farmers Market</td>\n      <td>Shopping Mall</td>\n    </tr>\n    <tr>\n      <th>2</th>\n      <td>Brockton,Exhibition Place,Parkdale Village</td>\n      <td>Breakfast Spot</td>\n      <td>Coffee Shop</td>\n      <td>Caf\u00e9</td>\n      <td>Grocery Store</td>\n      <td>Restaurant</td>\n      <td>Bar</td>\n      <td>Stadium</td>\n      <td>Falafel Restaurant</td>\n      <td>Burrito Place</td>\n      <td>Caribbean Restaurant</td>\n    </tr>\n    <tr>\n      <th>3</th>\n      <td>Business Reply Mail Processing Centre 969 Eastern</td>\n      <td>Light Rail Station</td>\n      <td>Yoga Studio</td>\n      <td>Garden</td>\n      <td>Pizza Place</td>\n      <td>Restaurant</td>\n      <td>Butcher</td>\n      <td>Burrito Place</td>\n      <td>Brewery</td>\n      <td>Skate Park</td>\n      <td>Smoke Shop</td>\n    </tr>\n    <tr>\n      <th>4</th>\n      <td>CN Tower,Bathurst Quay,Island airport,Harbourf...</td>\n      <td>Airport Service</td>\n      <td>Airport Lounge</td>\n      <td>Airport Terminal</td>\n      <td>Harbor / Marina</td>\n      <td>Bar</td>\n      <td>Plane</td>\n      <td>Coffee Shop</td>\n      <td>Sculpture Garden</td>\n      <td>Boat or Ferry</td>\n      <td>Boutique</td>\n    </tr>\n  </tbody>\n</table>\n</div>", 
                        "text/plain": "                                        Neighborhood 1st Most Common Venue  \\\n0                             Adelaide,King,Richmond           Coffee Shop   \n1                                        Berczy Park           Coffee Shop   \n2         Brockton,Exhibition Place,Parkdale Village        Breakfast Spot   \n3  Business Reply Mail Processing Centre 969 Eastern    Light Rail Station   \n4  CN Tower,Bathurst Quay,Island airport,Harbourf...       Airport Service   \n\n  2nd Most Common Venue 3rd Most Common Venue 4th Most Common Venue  \\\n0                  Caf\u00e9                   Bar            Steakhouse   \n1                Bakery          Cocktail Bar              Beer Bar   \n2           Coffee Shop                  Caf\u00e9         Grocery Store   \n3           Yoga Studio                Garden           Pizza Place   \n4        Airport Lounge      Airport Terminal       Harbor / Marina   \n\n  5th Most Common Venue 6th Most Common Venue 7th Most Common Venue  \\\n0       Thai Restaurant        Cosmetics Shop      Asian Restaurant   \n1            Steakhouse           Cheese Shop                  Caf\u00e9   \n2            Restaurant                   Bar               Stadium   \n3            Restaurant               Butcher         Burrito Place   \n4                   Bar                 Plane           Coffee Shop   \n\n  8th Most Common Venue 9th Most Common Venue 10th Most Common Venue  \n0        Breakfast Spot            Restaurant           Burger Joint  \n1    Seafood Restaurant        Farmers Market          Shopping Mall  \n2    Falafel Restaurant         Burrito Place   Caribbean Restaurant  \n3               Brewery            Skate Park             Smoke Shop  \n4      Sculpture Garden         Boat or Ferry               Boutique  "
                    }, 
                    "execution_count": 168, 
                    "metadata": {}
                }
            ], 
            "execution_count": 168
        }, 
        {
            "source": "### Clustering neighborhoods, running k-means to cluster the neighborhood into 6 clusters\n", 
            "cell_type": "markdown", 
            "metadata": {}
        }, 
        {
            "source": "# set number of clusters\nkclusters = 6\n\ntoronto_grouped_clustering = toronto_grouped.drop('Neighborhood', 1)\n\n# run k-means clustering\nkmeans = KMeans(n_clusters=kclusters, random_state=0).fit(toronto_grouped_clustering)\n\n# check cluster labels generated for each row in the dataframe\nkmeans.labels_[0:10] \n", 
            "cell_type": "code", 
            "metadata": {}, 
            "outputs": [
                {
                    "output_type": "execute_result", 
                    "data": {
                        "text/plain": "array([1, 1, 1, 1, 1, 1, 1, 1, 1, 1], dtype=int32)"
                    }, 
                    "execution_count": 175, 
                    "metadata": {}
                }
            ], 
            "execution_count": 175
        }, 
        {
            "source": "# add clustering labels\n#neighborhoods_venues_sorted.drop(columns=['Cluster Labels'], inplace=True)\nneighborhoods_venues_sorted.insert(0, 'Cluster Labels', kmeans.labels_)\n\ntoront_merged = df_filtered_TOR\n\n# merge toronto_grouped with toronto_data to add latitude/longitude for each neighborhood\ntor_merged = tor_merged.join(neighborhoods_venues_sorted.set_index('Neighborhood'), on='Neighbourhood')\n\ntor_merged.head() # check the last columns!\n", 
            "cell_type": "code", 
            "metadata": {}, 
            "outputs": [], 
            "execution_count": null
        }
    ], 
    "metadata": {
        "kernelspec": {
            "display_name": "Python 3.6", 
            "name": "python3", 
            "language": "python"
        }, 
        "language_info": {
            "mimetype": "text/x-python", 
            "nbconvert_exporter": "python", 
            "version": "3.6.8", 
            "name": "python", 
            "pygments_lexer": "ipython3", 
            "file_extension": ".py", 
            "codemirror_mode": {
                "version": 3, 
                "name": "ipython"
            }
        }
    }, 
    "nbformat": 4
}